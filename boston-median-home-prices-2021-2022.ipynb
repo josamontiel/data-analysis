{
 "cells": [
  {
   "cell_type": "code",
   "execution_count": 1,
   "id": "6eaef64e",
   "metadata": {
    "_cell_guid": "b1076dfc-b9ad-4769-8c92-a6c4dae69d19",
    "_uuid": "8f2839f25d086af736a60e9eeb907d3b93b6e0e5",
    "execution": {
     "iopub.execute_input": "2023-01-01T15:46:58.662593Z",
     "iopub.status.busy": "2023-01-01T15:46:58.661826Z",
     "iopub.status.idle": "2023-01-01T15:46:59.355768Z",
     "shell.execute_reply": "2023-01-01T15:46:59.354940Z"
    },
    "papermill": {
     "duration": 0.700945,
     "end_time": "2023-01-01T15:46:59.357710",
     "exception": false,
     "start_time": "2023-01-01T15:46:58.656765",
     "status": "completed"
    },
    "tags": []
   },
   "outputs": [
    {
     "name": "stdout",
     "output_type": "stream",
     "text": [
      "/kaggle/input/homepricesboston/black_and_latino_mortgage_rates.csv\n",
      "/kaggle/input/homepricesboston/single_family_home.csv\n",
      "/kaggle/input/homepricesboston/median_condo_price.csv\n",
      "All systems GO!\n"
     ]
    }
   ],
   "source": [
    "\n",
    "import numpy as np # linear algebra\n",
    "import pandas as pd # data processing, CSV file I/O (e.g. pd.read_csv)\n",
    "from pandas import read_csv # Importing the read_csv method as it will allow us to write cleaner code\n",
    "import matplotlib as plt\n",
    "import seaborn as sns\n",
    "sns.set_theme()\n",
    "\n",
    "import os\n",
    "for dirname, _, filenames in os.walk('/kaggle/input'):\n",
    "    for filename in filenames:\n",
    "        print(os.path.join(dirname, filename))\n",
    "        \n",
    "# Assigning variable to the datasets\n",
    "# These names will represent the three different \n",
    "# data sets used to create this project\n",
    "\n",
    "single_family_data = read_csv('/kaggle/input/homepricesboston/single_family_home.csv')\n",
    "condo_data = read_csv('/kaggle/input/homepricesboston/median_condo_price.csv')\n",
    "black_and_latino_data = read_csv('/kaggle/input/homepricesboston/black_and_latino_mortgage_rates.csv')\n",
    "\n",
    "# Prints a message to show that everything is loaded up\n",
    "print(\"All systems GO!\")"
   ]
  },
  {
   "cell_type": "markdown",
   "id": "6cb85e06",
   "metadata": {
    "papermill": {
     "duration": 0.00209,
     "end_time": "2023-01-01T15:46:59.362330",
     "exception": false,
     "start_time": "2023-01-01T15:46:59.360240",
     "status": "completed"
    },
    "tags": []
   },
   "source": [
    "### Single Family Home Data Cleaning"
   ]
  },
  {
   "cell_type": "code",
   "execution_count": 2,
   "id": "bb33270c",
   "metadata": {
    "execution": {
     "iopub.execute_input": "2023-01-01T15:46:59.368405Z",
     "iopub.status.busy": "2023-01-01T15:46:59.367701Z",
     "iopub.status.idle": "2023-01-01T15:46:59.376903Z",
     "shell.execute_reply": "2023-01-01T15:46:59.375889Z"
    },
    "papermill": {
     "duration": 0.014382,
     "end_time": "2023-01-01T15:46:59.378958",
     "exception": false,
     "start_time": "2023-01-01T15:46:59.364576",
     "status": "completed"
    },
    "tags": []
   },
   "outputs": [
    {
     "name": "stdout",
     "output_type": "stream",
     "text": [
      "Municipality                            0\n",
      "Communities Type                        0\n",
      "Median Sale Price, Jan - June 2021      0\n",
      "Median Sale Price, Jan - June 2022      0\n",
      "% Change                                0\n",
      "Notes                                 146\n",
      "dtype: int64\n",
      "Municipality                            0\n",
      "Communities Type                        0\n",
      "Median Sale Price, Jan - June 2021      0\n",
      "Median Sale Price, Jan - June 2022      0\n",
      "% Change                                0\n",
      "Notes                                 146\n",
      "dtype: int64\n",
      "Index(['Municipality', 'Communities Type',\n",
      "       'Median Sale Price, Jan - June 2021',\n",
      "       'Median Sale Price, Jan - June 2022', '% Change', 'Notes'],\n",
      "      dtype='object')\n"
     ]
    }
   ],
   "source": [
    "# Removing NaN values by removing the 'Notes column \n",
    "# as those were the only 'NaN' values in the entire data set.\n",
    "# The other two data sets were complete and did not need to be amended\n",
    "\n",
    "# Prints off all the columns and the amount of NaN vals for each\n",
    "# As shown below, There are no more 'NaN' values \n",
    "# as we removed the 'Notes'\n",
    "print(single_family_data.isna().sum())\n",
    "\n",
    "# Shows all values which may be 'Null'\n",
    "print(single_family_data.isnull().sum())\n",
    "\n",
    "# Prints all of the coumn names\n",
    "print(single_family_data.columns)\n",
    "\n",
    "# Used the below command to remove the notes column as all of the values were 'NaN'\n",
    "# The line is commented out as it triggers an error when re run\n",
    "\n",
    "# del single_family_data['Notes']"
   ]
  },
  {
   "cell_type": "markdown",
   "id": "9e05dd1a",
   "metadata": {
    "papermill": {
     "duration": 0.002259,
     "end_time": "2023-01-01T15:46:59.384042",
     "exception": false,
     "start_time": "2023-01-01T15:46:59.381783",
     "status": "completed"
    },
    "tags": []
   },
   "source": [
    "### Showing the Head and Tail"
   ]
  },
  {
   "cell_type": "code",
   "execution_count": 3,
   "id": "77ede2ba",
   "metadata": {
    "execution": {
     "iopub.execute_input": "2023-01-01T15:46:59.389635Z",
     "iopub.status.busy": "2023-01-01T15:46:59.389352Z",
     "iopub.status.idle": "2023-01-01T15:46:59.403164Z",
     "shell.execute_reply": "2023-01-01T15:46:59.402430Z"
    },
    "papermill": {
     "duration": 0.018418,
     "end_time": "2023-01-01T15:46:59.404766",
     "exception": false,
     "start_time": "2023-01-01T15:46:59.386348",
     "status": "completed"
    },
    "tags": []
   },
   "outputs": [
    {
     "data": {
      "text/html": [
       "<div>\n",
       "<style scoped>\n",
       "    .dataframe tbody tr th:only-of-type {\n",
       "        vertical-align: middle;\n",
       "    }\n",
       "\n",
       "    .dataframe tbody tr th {\n",
       "        vertical-align: top;\n",
       "    }\n",
       "\n",
       "    .dataframe thead th {\n",
       "        text-align: right;\n",
       "    }\n",
       "</style>\n",
       "<table border=\"1\" class=\"dataframe\">\n",
       "  <thead>\n",
       "    <tr style=\"text-align: right;\">\n",
       "      <th></th>\n",
       "      <th>Municipality</th>\n",
       "      <th>Communities Type</th>\n",
       "      <th>Median Sale Price, Jan - June 2021</th>\n",
       "      <th>Median Sale Price, Jan - June 2022</th>\n",
       "      <th>% Change</th>\n",
       "      <th>Notes</th>\n",
       "    </tr>\n",
       "  </thead>\n",
       "  <tbody>\n",
       "    <tr>\n",
       "      <th>0</th>\n",
       "      <td>Boston</td>\n",
       "      <td>Metro Core Communities</td>\n",
       "      <td>3462500</td>\n",
       "      <td>4400000</td>\n",
       "      <td>27.1%</td>\n",
       "      <td>NaN</td>\n",
       "    </tr>\n",
       "    <tr>\n",
       "      <th>1</th>\n",
       "      <td>Cambridge</td>\n",
       "      <td>Metro Core Communities</td>\n",
       "      <td>1537500</td>\n",
       "      <td>1775000</td>\n",
       "      <td>15.4%</td>\n",
       "      <td>NaN</td>\n",
       "    </tr>\n",
       "    <tr>\n",
       "      <th>2</th>\n",
       "      <td>Lowell</td>\n",
       "      <td>Regional Urban Centers</td>\n",
       "      <td>415000</td>\n",
       "      <td>439000</td>\n",
       "      <td>5.8%</td>\n",
       "      <td>NaN</td>\n",
       "    </tr>\n",
       "    <tr>\n",
       "      <th>3</th>\n",
       "      <td>Brockton</td>\n",
       "      <td>Regional Urban Centers</td>\n",
       "      <td>377500</td>\n",
       "      <td>430000</td>\n",
       "      <td>13.9%</td>\n",
       "      <td>NaN</td>\n",
       "    </tr>\n",
       "    <tr>\n",
       "      <th>4</th>\n",
       "      <td>Quincy</td>\n",
       "      <td>Regional Urban Centers</td>\n",
       "      <td>605000</td>\n",
       "      <td>640000</td>\n",
       "      <td>5.8%</td>\n",
       "      <td>NaN</td>\n",
       "    </tr>\n",
       "  </tbody>\n",
       "</table>\n",
       "</div>"
      ],
      "text/plain": [
       "  Municipality        Communities Type  Median Sale Price, Jan - June 2021  \\\n",
       "0       Boston  Metro Core Communities                             3462500   \n",
       "1    Cambridge  Metro Core Communities                             1537500   \n",
       "2       Lowell  Regional Urban Centers                              415000   \n",
       "3     Brockton  Regional Urban Centers                              377500   \n",
       "4       Quincy  Regional Urban Centers                              605000   \n",
       "\n",
       "   Median Sale Price, Jan - June 2022 % Change Notes  \n",
       "0                             4400000    27.1%   NaN  \n",
       "1                             1775000    15.4%   NaN  \n",
       "2                              439000     5.8%   NaN  \n",
       "3                              430000    13.9%   NaN  \n",
       "4                              640000     5.8%   NaN  "
      ]
     },
     "execution_count": 3,
     "metadata": {},
     "output_type": "execute_result"
    }
   ],
   "source": [
    "# This command will show us the first 5 rows of data\n",
    "single_family_data.head()"
   ]
  },
  {
   "cell_type": "code",
   "execution_count": 4,
   "id": "b29dc447",
   "metadata": {
    "execution": {
     "iopub.execute_input": "2023-01-01T15:46:59.411064Z",
     "iopub.status.busy": "2023-01-01T15:46:59.410630Z",
     "iopub.status.idle": "2023-01-01T15:46:59.419454Z",
     "shell.execute_reply": "2023-01-01T15:46:59.418854Z"
    },
    "papermill": {
     "duration": 0.013706,
     "end_time": "2023-01-01T15:46:59.421047",
     "exception": false,
     "start_time": "2023-01-01T15:46:59.407341",
     "status": "completed"
    },
    "tags": []
   },
   "outputs": [
    {
     "data": {
      "text/html": [
       "<div>\n",
       "<style scoped>\n",
       "    .dataframe tbody tr th:only-of-type {\n",
       "        vertical-align: middle;\n",
       "    }\n",
       "\n",
       "    .dataframe tbody tr th {\n",
       "        vertical-align: top;\n",
       "    }\n",
       "\n",
       "    .dataframe thead th {\n",
       "        text-align: right;\n",
       "    }\n",
       "</style>\n",
       "<table border=\"1\" class=\"dataframe\">\n",
       "  <thead>\n",
       "    <tr style=\"text-align: right;\">\n",
       "      <th></th>\n",
       "      <th>Municipality</th>\n",
       "      <th>Communities Type</th>\n",
       "      <th>Median Sale Price, Jan - June 2021</th>\n",
       "      <th>Median Sale Price, Jan - June 2022</th>\n",
       "      <th>% Change</th>\n",
       "      <th>Notes</th>\n",
       "    </tr>\n",
       "  </thead>\n",
       "  <tbody>\n",
       "    <tr>\n",
       "      <th>142</th>\n",
       "      <td>Essex</td>\n",
       "      <td>Developing Suburbs</td>\n",
       "      <td>625750</td>\n",
       "      <td>670000</td>\n",
       "      <td>7.1%</td>\n",
       "      <td>Note: Fewer than 10 sales.</td>\n",
       "    </tr>\n",
       "    <tr>\n",
       "      <th>143</th>\n",
       "      <td>Dunstable</td>\n",
       "      <td>Developing Suburbs</td>\n",
       "      <td>617500</td>\n",
       "      <td>690000</td>\n",
       "      <td>11.7%</td>\n",
       "      <td>NaN</td>\n",
       "    </tr>\n",
       "    <tr>\n",
       "      <th>144</th>\n",
       "      <td>Nahant</td>\n",
       "      <td>Maturing Suburbs</td>\n",
       "      <td>805000</td>\n",
       "      <td>1030000</td>\n",
       "      <td>28.0%</td>\n",
       "      <td>NaN</td>\n",
       "    </tr>\n",
       "    <tr>\n",
       "      <th>145</th>\n",
       "      <td>Ashby</td>\n",
       "      <td>Rural Towns</td>\n",
       "      <td>350000</td>\n",
       "      <td>370250</td>\n",
       "      <td>5.8%</td>\n",
       "      <td>NaN</td>\n",
       "    </tr>\n",
       "    <tr>\n",
       "      <th>146</th>\n",
       "      <td>Plympton</td>\n",
       "      <td>Developing Suburbs</td>\n",
       "      <td>487500</td>\n",
       "      <td>525000</td>\n",
       "      <td>7.7%</td>\n",
       "      <td>NaN</td>\n",
       "    </tr>\n",
       "  </tbody>\n",
       "</table>\n",
       "</div>"
      ],
      "text/plain": [
       "    Municipality    Communities Type  Median Sale Price, Jan - June 2021  \\\n",
       "142        Essex  Developing Suburbs                              625750   \n",
       "143    Dunstable  Developing Suburbs                              617500   \n",
       "144       Nahant    Maturing Suburbs                              805000   \n",
       "145        Ashby         Rural Towns                              350000   \n",
       "146     Plympton  Developing Suburbs                              487500   \n",
       "\n",
       "     Median Sale Price, Jan - June 2022 % Change                       Notes  \n",
       "142                              670000     7.1%  Note: Fewer than 10 sales.  \n",
       "143                              690000    11.7%                         NaN  \n",
       "144                             1030000    28.0%                         NaN  \n",
       "145                              370250     5.8%                         NaN  \n",
       "146                              525000     7.7%                         NaN  "
      ]
     },
     "execution_count": 4,
     "metadata": {},
     "output_type": "execute_result"
    }
   ],
   "source": [
    "# This command will show us the last 5 rows of data\n",
    "single_family_data.tail()"
   ]
  },
  {
   "cell_type": "markdown",
   "id": "f405ef61",
   "metadata": {
    "papermill": {
     "duration": 0.002528,
     "end_time": "2023-01-01T15:46:59.426306",
     "exception": false,
     "start_time": "2023-01-01T15:46:59.423778",
     "status": "completed"
    },
    "tags": []
   },
   "source": [
    "## Let's start presenting the data\n"
   ]
  },
  {
   "cell_type": "code",
   "execution_count": 5,
   "id": "62b30872",
   "metadata": {
    "execution": {
     "iopub.execute_input": "2023-01-01T15:46:59.432903Z",
     "iopub.status.busy": "2023-01-01T15:46:59.432453Z",
     "iopub.status.idle": "2023-01-01T15:46:59.723234Z",
     "shell.execute_reply": "2023-01-01T15:46:59.722257Z"
    },
    "papermill": {
     "duration": 0.296039,
     "end_time": "2023-01-01T15:46:59.725094",
     "exception": false,
     "start_time": "2023-01-01T15:46:59.429055",
     "status": "completed"
    },
    "tags": []
   },
   "outputs": [
    {
     "data": {
      "text/plain": [
       "<AxesSubplot:>"
      ]
     },
     "execution_count": 5,
     "metadata": {},
     "output_type": "execute_result"
    },
    {
     "data": {
      "image/png": "[encoded data removed]",
      "text/plain": [
       "<Figure size 432x288 with 1 Axes>"
      ]
     },
     "metadata": {},
     "output_type": "display_data"
    }
   ],
   "source": [
    "# The below is just a simple line graph using seaborn to show the data\n",
    "sns.lineplot(data=single_family_data)"
   ]
  },
  {
   "cell_type": "code",
   "execution_count": null,
   "id": "9be92afd",
   "metadata": {
    "papermill": {
     "duration": 0.003106,
     "end_time": "2023-01-01T15:46:59.731611",
     "exception": false,
     "start_time": "2023-01-01T15:46:59.728505",
     "status": "completed"
    },
    "tags": []
   },
   "outputs": [],
   "source": []
  }
 ],
 "metadata": {
  "kernelspec": {
   "display_name": "Python 3",
   "language": "python",
   "name": "python3"
  },
  "language_info": {
   "codemirror_mode": {
    "name": "ipython",
    "version": 3
   },
   "file_extension": ".py",
   "mimetype": "text/x-python",
   "name": "python",
   "nbconvert_exporter": "python",
   "pygments_lexer": "ipython3",
   "version": "3.7.12"
  },
  "papermill": {
   "default_parameters": {},
   "duration": 7.999264,
   "end_time": "2023-01-01T15:47:00.352944",
   "environment_variables": {},
   "exception": null,
   "input_path": "__notebook__.ipynb",
   "output_path": "__notebook__.ipynb",
   "parameters": {},
   "start_time": "2023-01-01T15:46:52.353680",
   "version": "2.3.4"
  }
 },
 "nbformat": 4,
 "nbformat_minor": 5
}

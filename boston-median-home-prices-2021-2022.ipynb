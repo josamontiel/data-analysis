{
 "cells": [
  {
   "cell_type": "code",
   "execution_count": 1,
   "id": "c3e78ea6",
   "metadata": {
    "_cell_guid": "b1076dfc-b9ad-4769-8c92-a6c4dae69d19",
    "_uuid": "8f2839f25d086af736a60e9eeb907d3b93b6e0e5",
    "execution": {
     "iopub.execute_input": "2022-12-31T14:44:32.352984Z",
     "iopub.status.busy": "2022-12-31T14:44:32.352457Z",
     "iopub.status.idle": "2022-12-31T14:44:33.450183Z",
     "shell.execute_reply": "2022-12-31T14:44:33.449005Z"
    },
    "papermill": {
     "duration": 1.105612,
     "end_time": "2022-12-31T14:44:33.453545",
     "exception": false,
     "start_time": "2022-12-31T14:44:32.347933",
     "status": "completed"
    },
    "tags": []
   },
   "outputs": [
    {
     "name": "stdout",
     "output_type": "stream",
     "text": [
      "/kaggle/input/homepricesboston/black_and_latino_mortgage_rates.csv\n",
      "/kaggle/input/homepricesboston/single_family_home.csv\n",
      "/kaggle/input/homepricesboston/median_condo_price.csv\n"
     ]
    }
   ],
   "source": [
    "# This Python 3 environment comes with many helpful analytics libraries installed\n",
    "# It is defined by the kaggle/python Docker image: https://github.com/kaggle/docker-python\n",
    "# For example, here's several helpful packages to load\n",
    "\n",
    "import numpy as np # linear algebra\n",
    "import pandas as pd # data processing, CSV file I/O (e.g. pd.read_csv)\n",
    "import seaborn as sns\n",
    "sns.set_theme()\n",
    "\n",
    "# Input data files are available in the read-only \"../input/\" directory\n",
    "# For example, running this (by clicking run or pressing Shift+Enter) will list all files under the input directory\n",
    "\n",
    "import os\n",
    "for dirname, _, filenames in os.walk('/kaggle/input'):\n",
    "    for filename in filenames:\n",
    "        print(os.path.join(dirname, filename))\n",
    "single_family_data = pd.read_csv('/kaggle/input/homepricesboston/single_family_home.csv')\n",
    "condo_data = pd.read_csv('/kaggle/input/homepricesboston/median_condo_price.csv')\n",
    "black_and_latino_data = pd.read_csv('/kaggle/input/homepricesboston/black_and_latino_mortgage_rates.csv')\n",
    "\n",
    "# You can write up to 20GB to the current directory (/kaggle/working/) that gets preserved as output when you create a version using \"Save & Run All\" \n",
    "# You can also write temporary files to /kaggle/temp/, but they won't be saved outside of the current session"
   ]
  },
  {
   "cell_type": "code",
   "execution_count": 2,
   "id": "8c5f20e3",
   "metadata": {
    "execution": {
     "iopub.execute_input": "2022-12-31T14:44:33.459095Z",
     "iopub.status.busy": "2022-12-31T14:44:33.458670Z",
     "iopub.status.idle": "2022-12-31T14:44:33.470982Z",
     "shell.execute_reply": "2022-12-31T14:44:33.469404Z"
    },
    "papermill": {
     "duration": 0.018142,
     "end_time": "2022-12-31T14:44:33.473718",
     "exception": false,
     "start_time": "2022-12-31T14:44:33.455576",
     "status": "completed"
    },
    "tags": []
   },
   "outputs": [],
   "source": [
    "missing_values_condo = condo_data.isnull().sum()\n",
    "missing_values_single_family = single_family_data.isnull().sum()"
   ]
  }
 ],
 "metadata": {
  "kernelspec": {
   "display_name": "Python 3",
   "language": "python",
   "name": "python3"
  },
  "language_info": {
   "codemirror_mode": {
    "name": "ipython",
    "version": 3
   },
   "file_extension": ".py",
   "mimetype": "text/x-python",
   "name": "python",
   "nbconvert_exporter": "python",
   "pygments_lexer": "ipython3",
   "version": "3.7.12"
  },
  "papermill": {
   "default_parameters": {},
   "duration": 12.255755,
   "end_time": "2022-12-31T14:44:34.198011",
   "environment_variables": {},
   "exception": null,
   "input_path": "__notebook__.ipynb",
   "output_path": "__notebook__.ipynb",
   "parameters": {},
   "start_time": "2022-12-31T14:44:21.942256",
   "version": "2.3.4"
  }
 },
 "nbformat": 4,
 "nbformat_minor": 5
}

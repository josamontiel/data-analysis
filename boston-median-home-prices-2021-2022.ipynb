{
 "cells": [
  {
   "cell_type": "code",
   "execution_count": 5,
   "id": "c3e78ea6",
   "metadata": {
    "_cell_guid": "b1076dfc-b9ad-4769-8c92-a6c4dae69d19",
    "_uuid": "8f2839f25d086af736a60e9eeb907d3b93b6e0e5",
    "execution": {
     "iopub.execute_input": "2022-12-31T14:44:32.352984Z",
     "iopub.status.busy": "2022-12-31T14:44:32.352457Z",
     "iopub.status.idle": "2022-12-31T14:44:33.450183Z",
     "shell.execute_reply": "2022-12-31T14:44:33.449005Z"
    },
    "papermill": {
     "duration": 1.105612,
     "end_time": "2022-12-31T14:44:33.453545",
     "exception": false,
     "start_time": "2022-12-31T14:44:32.347933",
     "status": "completed"
    },
    "tags": []
   },
   "outputs": [],
   "source": [
    "\n",
    "import numpy as np # linear algebra\n",
    "import pandas as pd # data processing, CSV file I/O (e.g. pd.read_csv)\n",
    "import seaborn as sns\n",
    "sns.set_theme()\n",
    "\n",
    "\n",
    "# Loading in the relevant datasets\n",
    "\n",
    "single_family_data = pd.read_csv('./boston-housing-data-21-22/single_family_home.csv')\n",
    "condo_data = pd.read_csv('./boston-housing-data-21-22/median_condo_price.csv')\n",
    "black_and_latino_data = pd.read_csv('./boston-housing-data-21-22/black_and_latino_mortgage_rates.csv')\n",
    "\n"
   ]
  },
  {
   "cell_type": "code",
   "execution_count": 7,
   "id": "8c5f20e3",
   "metadata": {
    "execution": {
     "iopub.execute_input": "2022-12-31T14:44:33.459095Z",
     "iopub.status.busy": "2022-12-31T14:44:33.458670Z",
     "iopub.status.idle": "2022-12-31T14:44:33.470982Z",
     "shell.execute_reply": "2022-12-31T14:44:33.469404Z"
    },
    "papermill": {
     "duration": 0.018142,
     "end_time": "2022-12-31T14:44:33.473718",
     "exception": false,
     "start_time": "2022-12-31T14:44:33.455576",
     "status": "completed"
    },
    "tags": []
   },
   "outputs": [
    {
     "data": {
      "text/html": [
       "<div>\n",
       "<style scoped>\n",
       "    .dataframe tbody tr th:only-of-type {\n",
       "        vertical-align: middle;\n",
       "    }\n",
       "\n",
       "    .dataframe tbody tr th {\n",
       "        vertical-align: top;\n",
       "    }\n",
       "\n",
       "    .dataframe thead th {\n",
       "        text-align: right;\n",
       "    }\n",
       "</style>\n",
       "<table border=\"1\" class=\"dataframe\">\n",
       "  <thead>\n",
       "    <tr style=\"text-align: right;\">\n",
       "      <th></th>\n",
       "      <th>Municipality</th>\n",
       "      <th>Communities Type</th>\n",
       "      <th>Median Sale Price, Jan - June 2021</th>\n",
       "      <th>Median Sale Price, Jan - June 2022</th>\n",
       "      <th>% Change</th>\n",
       "      <th>Notes</th>\n",
       "    </tr>\n",
       "  </thead>\n",
       "  <tbody>\n",
       "    <tr>\n",
       "      <th>0</th>\n",
       "      <td>Boston</td>\n",
       "      <td>Metro Core Communities</td>\n",
       "      <td>3462500</td>\n",
       "      <td>4400000</td>\n",
       "      <td>27.1%</td>\n",
       "      <td>NaN</td>\n",
       "    </tr>\n",
       "    <tr>\n",
       "      <th>1</th>\n",
       "      <td>Cambridge</td>\n",
       "      <td>Metro Core Communities</td>\n",
       "      <td>1537500</td>\n",
       "      <td>1775000</td>\n",
       "      <td>15.4%</td>\n",
       "      <td>NaN</td>\n",
       "    </tr>\n",
       "    <tr>\n",
       "      <th>2</th>\n",
       "      <td>Lowell</td>\n",
       "      <td>Regional Urban Centers</td>\n",
       "      <td>415000</td>\n",
       "      <td>439000</td>\n",
       "      <td>5.8%</td>\n",
       "      <td>NaN</td>\n",
       "    </tr>\n",
       "    <tr>\n",
       "      <th>3</th>\n",
       "      <td>Brockton</td>\n",
       "      <td>Regional Urban Centers</td>\n",
       "      <td>377500</td>\n",
       "      <td>430000</td>\n",
       "      <td>13.9%</td>\n",
       "      <td>NaN</td>\n",
       "    </tr>\n",
       "    <tr>\n",
       "      <th>4</th>\n",
       "      <td>Quincy</td>\n",
       "      <td>Regional Urban Centers</td>\n",
       "      <td>605000</td>\n",
       "      <td>640000</td>\n",
       "      <td>5.8%</td>\n",
       "      <td>NaN</td>\n",
       "    </tr>\n",
       "  </tbody>\n",
       "</table>\n",
       "</div>"
      ],
      "text/plain": [
       "  Municipality        Communities Type  Median Sale Price, Jan - June 2021  \\\n",
       "0       Boston  Metro Core Communities                             3462500   \n",
       "1    Cambridge  Metro Core Communities                             1537500   \n",
       "2       Lowell  Regional Urban Centers                              415000   \n",
       "3     Brockton  Regional Urban Centers                              377500   \n",
       "4       Quincy  Regional Urban Centers                              605000   \n",
       "\n",
       "   Median Sale Price, Jan - June 2022 % Change Notes  \n",
       "0                             4400000    27.1%   NaN  \n",
       "1                             1775000    15.4%   NaN  \n",
       "2                              439000     5.8%   NaN  \n",
       "3                              430000    13.9%   NaN  \n",
       "4                              640000     5.8%   NaN  "
      ]
     },
     "execution_count": 7,
     "metadata": {},
     "output_type": "execute_result"
    }
   ],
   "source": []
  }
 ],
 "metadata": {
  "kernelspec": {
   "display_name": "Python 3",
   "language": "python",
   "name": "python3"
  },
  "language_info": {
   "codemirror_mode": {
    "name": "ipython",
    "version": 3
   },
   "file_extension": ".py",
   "mimetype": "text/x-python",
   "name": "python",
   "nbconvert_exporter": "python",
   "pygments_lexer": "ipython3",
   "version": "3.10.4"
  },
  "papermill": {
   "default_parameters": {},
   "duration": 12.255755,
   "end_time": "2022-12-31T14:44:34.198011",
   "environment_variables": {},
   "exception": null,
   "input_path": "__notebook__.ipynb",
   "output_path": "__notebook__.ipynb",
   "parameters": {},
   "start_time": "2022-12-31T14:44:21.942256",
   "version": "2.3.4"
  },
  "vscode": {
   "interpreter": {
    "hash": "3ad933181bd8a04b432d3370b9dc3b0662ad032c4dfaa4e4f1596c548f763858"
   }
  }
 },
 "nbformat": 4,
 "nbformat_minor": 5
}

{
  "cells": [
    {
      "cell_type": "markdown",
      "source": [
        " <!---\n",
        " \n",
        " TO DO:\n",
        "* Remove '%' charachter from '% Change' column as it prevents me from converting the dtype of the column to float\n",
        "* Convert '% Change' column to float\\n\",\n",
        "* Clean notebook to have individual datasets in their respective columns\n",
        "\n",
        "--->"
      ],
      "metadata": {
        "id": "aq_FDqY4EgyN"
      },
      "id": "aq_FDqY4EgyN"
    },
    {
      "cell_type": "code",
      "execution_count": null,
      "id": "6eaef64e",
      "metadata": {
        "_cell_guid": "b1076dfc-b9ad-4769-8c92-a6c4dae69d19",
        "_uuid": "8f2839f25d086af736a60e9eeb907d3b93b6e0e5",
        "execution": {
          "iopub.execute_input": "2023-01-01T15:46:58.662593Z",
          "iopub.status.busy": "2023-01-01T15:46:58.661826Z",
          "iopub.status.idle": "2023-01-01T15:46:59.355768Z",
          "shell.execute_reply": "2023-01-01T15:46:59.354940Z"
        },
        "papermill": {
          "duration": 0.700945,
          "end_time": "2023-01-01T15:46:59.357710",
          "exception": false,
          "start_time": "2023-01-01T15:46:58.656765",
          "status": "completed"
        },
        "tags": [],
        "id": "6eaef64e"
      },
      "outputs": [],
      "source": [
        "import numpy as np # linear algebra\n",
        "import pandas as pd # data processing, CSV file I/O (e.g. pd.read_csv)\n",
        "from pandas import read_csv # Importing the read_csv method \n",
        "                            # as it will allow us to write cleaner code\n",
        "%matplotlib inline\n",
        "from pylab import *\n",
        "from natsort import index_natsorted\n",
        "import seaborn as sns\n",
        "sns.set_theme(style=\"ticks\")\n",
        "import sqlite3\n",
        "\n",
        "# Connect to a database w sqlite3\n",
        "connection = sqlite3.connect('mydatbase.db')\n",
        "crsr_for_database = connection.cursor()\n",
        "print(\"Connected to 'mydatabase.db'\")\n",
        "        \n",
        "# Assigning variable to the datasets\n",
        "# These names will represent the three different \n",
        "# data sets used to create this project\n",
        "\n",
        "single_family_data = read_csv('/content/datasets/single_family_home.csv')\n",
        "condo_data = read_csv('/content/datasets/median_condo_price.csv')\n",
        "black_and_latino_data = read_csv('/content/datasets/black_and_latino_mortgage_rates.csv')\n",
        "\n",
        "# Prints a message to show that everything is loaded up\n",
        "print(\"All systems GO!\")"
      ]
    },
    {
      "cell_type": "markdown",
      "id": "6cb85e06",
      "metadata": {
        "papermill": {
          "duration": 0.00209,
          "end_time": "2023-01-01T15:46:59.362330",
          "exception": false,
          "start_time": "2023-01-01T15:46:59.360240",
          "status": "completed"
        },
        "tags": [],
        "id": "6cb85e06"
      },
      "source": [
        "### Single Family Median Price Data:\n",
        "\n",
        "In this section we will be combing through the single family median price dataset for the months of Jan-Jun of 2021 and the same months of 2022.\n",
        "\n",
        "We have no aim as to what we hope to uncover, only merely to present the data in such a way that it makes full sense to the end user. "
      ]
    },
    {
      "cell_type": "code",
      "source": [],
      "metadata": {
        "id": "HElKNFwRA3OL"
      },
      "id": "HElKNFwRA3OL",
      "execution_count": null,
      "outputs": []
    },
    {
      "cell_type": "code",
      "source": [
        "price_info_on_single_family = single_family_data['Median Sale Price, Jan - June 2021'].sort_values()\n",
        "print(price_info_on_single_family)"
      ],
      "metadata": {
        "id": "4QTxYafL7bNx"
      },
      "id": "4QTxYafL7bNx",
      "execution_count": null,
      "outputs": []
    },
    {
      "cell_type": "code",
      "source": [
        "single_family_data.dtypes"
      ],
      "metadata": {
        "id": "-hnaTER8_pdI"
      },
      "id": "-hnaTER8_pdI",
      "execution_count": null,
      "outputs": []
    },
    {
      "cell_type": "code",
      "source": [
        "\"\"\"\n",
        "In order to properly order by % change values\n",
        "I will need to convert the type\n",
        "of the % change columns from object\n",
        "to float\n",
        "\n",
        "This means I will also have to remove the '%' character,\n",
        "It is pretty redundant as we know that its the % column\n",
        "\"\"\""
      ],
      "metadata": {
        "id": "OBTULaPtA36R"
      },
      "id": "OBTULaPtA36R",
      "execution_count": null,
      "outputs": []
    },
    {
      "cell_type": "code",
      "source": [
        "\n",
        "pd.unique(single_family_data['Communities Type'])\n"
      ],
      "metadata": {
        "id": "uCB-IQqex6go"
      },
      "id": "uCB-IQqex6go",
      "execution_count": null,
      "outputs": []
    },
    {
      "cell_type": "code",
      "execution_count": null,
      "id": "bb33270c",
      "metadata": {
        "execution": {
          "iopub.execute_input": "2023-01-01T15:46:59.368405Z",
          "iopub.status.busy": "2023-01-01T15:46:59.367701Z",
          "iopub.status.idle": "2023-01-01T15:46:59.376903Z",
          "shell.execute_reply": "2023-01-01T15:46:59.375889Z"
        },
        "papermill": {
          "duration": 0.014382,
          "end_time": "2023-01-01T15:46:59.378958",
          "exception": false,
          "start_time": "2023-01-01T15:46:59.364576",
          "status": "completed"
        },
        "tags": [],
        "id": "bb33270c"
      },
      "outputs": [],
      "source": [
        "# Removing NaN values by removing the 'Notes column \n",
        "# as those were the only 'NaN' values in the entire data set.\n",
        "# The other two data sets were complete and did not need to be amended\n",
        "\n",
        "# Prints off all the columns and the amount of NaN vals for each\n",
        "# As shown below, There are no more 'NaN' values \n",
        "# as we removed the 'Notes'\n",
        "print(f\"Total number of 'NaN' inputs: \\n\\n{single_family_data.isna().sum()}\\n\")\n",
        "\n",
        "# Shows all values which may be 'Null'\n",
        "print(f\"Total number of 'Null' inputs: \\n{single_family_data.isnull().sum()}\\n\")\n",
        "\n",
        "# Prints all of the coumn names\n",
        "print(f\"\\n{single_family_data.columns}\")\n",
        "\n",
        "# Used the below command to remove the notes column as all of the values were 'NaN'\n",
        "# If you do not run all cells it will trigger an error when re run\n",
        "\n",
        "del single_family_data['Notes']"
      ]
    },
    {
      "cell_type": "code",
      "source": [
        "# testing the columns post deletion of 'Notes' col\n",
        "print(single_family_data.columns)"
      ],
      "metadata": {
        "id": "lBYDPmzN34Xv"
      },
      "id": "lBYDPmzN34Xv",
      "execution_count": null,
      "outputs": []
    },
    {
      "cell_type": "code",
      "source": [
        "# Need to remove % character from all values in the '% Change column before converting the type to a float"
      ],
      "metadata": {
        "id": "gKxb83DIlN7M"
      },
      "id": "gKxb83DIlN7M",
      "execution_count": null,
      "outputs": []
    },
    {
      "cell_type": "markdown",
      "source": [
        "## First, Lets find out what we are dealing with first\n",
        "\n",
        "Knowing what you are dealing with is a huge part of the battle, if all one sees is numbers and percentages, then it will not make any sense and I would not have done my job properly.\n",
        "\n",
        "Being able to know what values mean helps the end user and every user in between. It may seem trivial to some but presenting this data in its correct order whill allow the viewer to quickly assess what the number means based on its placement on a: chart/graph/file"
      ],
      "metadata": {
        "id": "3zVGQhqysrru"
      },
      "id": "3zVGQhqysrru"
    },
    {
      "cell_type": "code",
      "source": [
        "# Showing the column names to get a little \n",
        "# more insight into the values we will be seeing\n",
        "def show_column_names():\n",
        "\n",
        "  # Single family\n",
        "  print(\"\\nSngle family data:\\n\")\n",
        "  for col in single_family_data.columns:\n",
        "    print(col)\n",
        "\n",
        "  # Condo\n",
        "  print(\"\\nCondo data:\\n\")\n",
        "  for col in condo_data.columns:\n",
        "    print(col)\n",
        "\n",
        "  # Black And Latino mortgages\n",
        "  print(\"\\nBlack and Latino data:\\n\")\n",
        "  for col in black_and_latino_data.columns:\n",
        "    print(col)\n",
        "\n",
        "show_column_names()"
      ],
      "metadata": {
        "id": "6e3pDuUXsw_c"
      },
      "id": "6e3pDuUXsw_c",
      "execution_count": null,
      "outputs": []
    },
    {
      "cell_type": "markdown",
      "id": "9e05dd1a",
      "metadata": {
        "papermill": {
          "duration": 0.002259,
          "end_time": "2023-01-01T15:46:59.384042",
          "exception": false,
          "start_time": "2023-01-01T15:46:59.381783",
          "status": "completed"
        },
        "tags": [],
        "id": "9e05dd1a"
      },
      "source": [
        "### Showing the Head and Tail"
      ]
    },
    {
      "cell_type": "code",
      "execution_count": null,
      "id": "77ede2ba",
      "metadata": {
        "execution": {
          "iopub.execute_input": "2023-01-01T15:46:59.389635Z",
          "iopub.status.busy": "2023-01-01T15:46:59.389352Z",
          "iopub.status.idle": "2023-01-01T15:46:59.403164Z",
          "shell.execute_reply": "2023-01-01T15:46:59.402430Z"
        },
        "papermill": {
          "duration": 0.018418,
          "end_time": "2023-01-01T15:46:59.404766",
          "exception": false,
          "start_time": "2023-01-01T15:46:59.386348",
          "status": "completed"
        },
        "tags": [],
        "id": "77ede2ba"
      },
      "outputs": [],
      "source": [
        "# This command will show us the first 5 rows of data\n",
        "# The data is sorted in no particular order\n",
        "# Just the order they were entered into the CSV file\n",
        "\n",
        "single_family_data.head()"
      ]
    },
    {
      "cell_type": "code",
      "execution_count": null,
      "id": "b29dc447",
      "metadata": {
        "execution": {
          "iopub.execute_input": "2023-01-01T15:46:59.411064Z",
          "iopub.status.busy": "2023-01-01T15:46:59.410630Z",
          "iopub.status.idle": "2023-01-01T15:46:59.419454Z",
          "shell.execute_reply": "2023-01-01T15:46:59.418854Z"
        },
        "papermill": {
          "duration": 0.013706,
          "end_time": "2023-01-01T15:46:59.421047",
          "exception": false,
          "start_time": "2023-01-01T15:46:59.407341",
          "status": "completed"
        },
        "tags": [],
        "id": "b29dc447"
      },
      "outputs": [],
      "source": [
        "# This command will show us the last 5 rows of data\n",
        "single_family_data.tail()"
      ]
    },
    {
      "cell_type": "code",
      "source": [
        "# Getting a head/tail for all 3 datasets\n",
        "def get_head_and_tail():\n",
        "  # Single family data\n",
        "  print(\"Single family:\\n\")\n",
        "  print(single_family_data.head())\n",
        "  print(single_family_data.tail())\n",
        "  # Condo data\n",
        "  print(\"Condo data: \\n\")\n",
        "  print(condo_data.head())\n",
        "  print(condo_data.tail())\n",
        "  #Black and Latino data\n",
        "  print(\"Black and Latino owner share: \\n\")\n",
        "  print(black_and_latino_data.head())\n",
        "  print(black_and_latino_data.tail())\n",
        "\n",
        "get_head_and_tail()"
      ],
      "metadata": {
        "id": "YLU-Dxaw73UE"
      },
      "id": "YLU-Dxaw73UE",
      "execution_count": null,
      "outputs": []
    },
    {
      "cell_type": "markdown",
      "id": "f405ef61",
      "metadata": {
        "papermill": {
          "duration": 0.002528,
          "end_time": "2023-01-01T15:46:59.426306",
          "exception": false,
          "start_time": "2023-01-01T15:46:59.423778",
          "status": "completed"
        },
        "tags": [],
        "id": "f405ef61"
      },
      "source": [
        "## Let's start presenting the data\n"
      ]
    },
    {
      "cell_type": "code",
      "execution_count": null,
      "id": "62b30872",
      "metadata": {
        "execution": {
          "iopub.execute_input": "2023-01-01T15:46:59.432903Z",
          "iopub.status.busy": "2023-01-01T15:46:59.432453Z",
          "iopub.status.idle": "2023-01-01T15:46:59.723234Z",
          "shell.execute_reply": "2023-01-01T15:46:59.722257Z"
        },
        "papermill": {
          "duration": 0.296039,
          "end_time": "2023-01-01T15:46:59.725094",
          "exception": false,
          "start_time": "2023-01-01T15:46:59.429055",
          "status": "completed"
        },
        "tags": [],
        "id": "62b30872"
      },
      "outputs": [],
      "source": [
        "# The below is just a simple line graph using seaborn to show the data\n",
        "sns.lineplot(data=single_family_data)"
      ]
    },
    {
      "cell_type": "code",
      "source": [
        "black_and_latino_data.tail()\n"
      ],
      "metadata": {
        "id": "ch8jN_It3yvx"
      },
      "id": "ch8jN_It3yvx",
      "execution_count": null,
      "outputs": []
    },
    {
      "cell_type": "code",
      "source": [
        "single_family_start_price = single_family_data.sort_values(by=\"Median Sale Price, Jan - June 2021\", ascending=False)\n",
        "print(single_family_start_price)\n",
        "single_family_start_price.head()"
      ],
      "metadata": {
        "id": "iIXG0SrZljSE"
      },
      "id": "iIXG0SrZljSE",
      "execution_count": null,
      "outputs": []
    },
    {
      "cell_type": "code",
      "execution_count": null,
      "id": "9be92afd",
      "metadata": {
        "papermill": {
          "duration": 0.003106,
          "end_time": "2023-01-01T15:46:59.731611",
          "exception": false,
          "start_time": "2023-01-01T15:46:59.728505",
          "status": "completed"
        },
        "tags": [],
        "id": "9be92afd"
      },
      "outputs": [],
      "source": [
        "# Using the natsort library I am able to naturally sort the values I would like\n",
        "sorted_single_family_data = single_family_data.sort_values(by=[\"% Change\"], ascending=True, key=lambda x: np.argsort(index_natsorted(single_family_data[\"% Change\"])))\n",
        "print(sorted_single_family_data)"
      ]
    },
    {
      "cell_type": "markdown",
      "source": [
        "### What can we do with this data:\n",
        "\n",
        "The sorting method allows us to sort and present data in a way that will let end users know which towns had the greatest changes (positive or negative) in price for single family homes in specictowns over the same period of time. \n",
        "\n",
        "##### What could people do with this information:\n",
        "\n",
        "The uses are many, once could use this to make an informed decision on where they could potentially purchase a home for the greatest return... or they could be a family who is strapped for cash and looking to purchase a home without thinking about upside/downside in price. \n",
        "\n",
        "The uses don't only have to satisfy one group. The data is the data is the data,so the overall use of it, in my opinion, is impartial. "
      ],
      "metadata": {
        "id": "H2WWly8djql8"
      },
      "id": "H2WWly8djql8"
    },
    {
      "cell_type": "code",
      "source": [
        "community_type_single_family = single_family_data.sort_values(by=[\"Communities Type\", \n",
        "                                                                  \"% Change\"], ascending=False, \n",
        "                                                              key=lambda x: np.argsort(index_natsorted(single_family_data[\"% Change\"])))\n",
        "community_type_single_family.head()\n"
      ],
      "metadata": {
        "id": "bosUFudOjmj2"
      },
      "id": "bosUFudOjmj2",
      "execution_count": null,
      "outputs": []
    },
    {
      "cell_type": "markdown",
      "source": [
        "### Making sense of the single family data\n"
      ],
      "metadata": {
        "id": "-fMtyW7nwhML"
      },
      "id": "-fMtyW7nwhML"
    },
    {
      "cell_type": "code",
      "source": [
        "boston_single_family_data = single_family_data.loc[single_family_data['Municipality'] == \"Boston\"]\n",
        "print(boston_single_family_data)"
      ],
      "metadata": {
        "id": "WBj1ezawefK7"
      },
      "id": "WBj1ezawefK7",
      "execution_count": null,
      "outputs": []
    },
    {
      "cell_type": "code",
      "source": [
        "boston_condo_data = condo_data.loc[condo_data['Town'] == \"Boston\"]\n",
        "\n",
        "print(boston_condo_data)"
      ],
      "metadata": {
        "id": "IWTIMkro5d1I"
      },
      "id": "IWTIMkro5d1I",
      "execution_count": null,
      "outputs": []
    },
    {
      "cell_type": "code",
      "source": [
        "boston_black_and_latino = black_and_latino_data.loc[black_and_latino_data['Municipality'] == \"Boston\"]\n",
        "print(boston_black_and_latino)"
      ],
      "metadata": {
        "id": "4_r3If8dew1N"
      },
      "id": "4_r3If8dew1N",
      "execution_count": null,
      "outputs": []
    },
    {
      "cell_type": "code",
      "source": [
        "def all_boston_data():\n",
        "  boston_single_family_data = single_family_data.loc[single_family_data['Municipality'] == \"Boston\"]\n",
        "  boston_condo_data = condo_data.loc[condo_data['Town'] == \"Boston\"]\n",
        "  boston_black_and_latino = black_and_latino_data.loc[black_and_latino_data['Municipality'] == \"Boston\"]\n",
        "\n",
        "  print(boston_single_family_data)\n",
        "  print(boston_condo_data)\n",
        "  print(boston_black_and_latino)\n",
        "\n",
        "all_boston_data()\n"
      ],
      "metadata": {
        "id": "sgTiVPN0fkhI"
      },
      "id": "sgTiVPN0fkhI",
      "execution_count": null,
      "outputs": []
    },
    {
      "cell_type": "code",
      "source": [],
      "metadata": {
        "id": "xXi-9gdkf4Q0"
      },
      "id": "xXi-9gdkf4Q0",
      "execution_count": null,
      "outputs": []
    },
    {
      "cell_type": "code",
      "source": [
        "# Replplot of the head values of the condo data\n",
        "head_condo_data = condo_data.head()\n",
        "sns.relplot(x=\"Town\", y=\"Condo.PercChange\", data=head_condo_data)\n"
      ],
      "metadata": {
        "id": "4b9Cy798B0jJ"
      },
      "id": "4b9Cy798B0jJ",
      "execution_count": null,
      "outputs": []
    },
    {
      "cell_type": "code",
      "source": [
        "# Sorting Condo Data by % Change\n",
        "# Will need to drop % symbol from string\n",
        "# Because it is read as an error\n",
        "\n",
        "condo_data.sort_values(by=['Condo.PercChange'], ascending=False)"
      ],
      "metadata": {
        "id": "s67c6A6XFymy"
      },
      "id": "s67c6A6XFymy",
      "execution_count": null,
      "outputs": []
    }
  ],
  "metadata": {
    "kernelspec": {
      "display_name": "Python 3",
      "language": "python",
      "name": "python3"
    },
    "language_info": {
      "codemirror_mode": {
        "name": "ipython",
        "version": 3
      },
      "file_extension": ".py",
      "mimetype": "text/x-python",
      "name": "python",
      "nbconvert_exporter": "python",
      "pygments_lexer": "ipython3",
      "version": "3.7.12"
    },
    "papermill": {
      "default_parameters": {},
      "duration": 7.999264,
      "end_time": "2023-01-01T15:47:00.352944",
      "environment_variables": {},
      "exception": null,
      "input_path": "__notebook__.ipynb",
      "output_path": "__notebook__.ipynb",
      "parameters": {},
      "start_time": "2023-01-01T15:46:52.353680",
      "version": "2.3.4"
    },
    "colab": {
      "provenance": []
    }
  },
  "nbformat": 4,
  "nbformat_minor": 5
}
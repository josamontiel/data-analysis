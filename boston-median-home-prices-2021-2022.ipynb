{
  "cells": [
    {
      "cell_type": "code",
      "execution_count": 17,
      "id": "6eaef64e",
      "metadata": {
        "_cell_guid": "b1076dfc-b9ad-4769-8c92-a6c4dae69d19",
        "_uuid": "8f2839f25d086af736a60e9eeb907d3b93b6e0e5",
        "execution": {
          "iopub.execute_input": "2023-01-01T15:46:58.662593Z",
          "iopub.status.busy": "2023-01-01T15:46:58.661826Z",
          "iopub.status.idle": "2023-01-01T15:46:59.355768Z",
          "shell.execute_reply": "2023-01-01T15:46:59.354940Z"
        },
        "papermill": {
          "duration": 0.700945,
          "end_time": "2023-01-01T15:46:59.357710",
          "exception": false,
          "start_time": "2023-01-01T15:46:58.656765",
          "status": "completed"
        },
        "tags": [],
        "colab": {
          "base_uri": "https://localhost:8080/"
        },
        "id": "6eaef64e",
        "outputId": "4a12ef66-53b4-4883-ee03-048adc82947b"
      },
      "outputs": [
        {
          "output_type": "stream",
          "name": "stdout",
          "text": [
            "Connected to 'mydatabase.db'\n",
            "All systems GO!\n"
          ]
        }
      ],
      "source": [
        "\n",
        "import numpy as np # linear algebra\n",
        "import pandas as pd # data processing, CSV file I/O (e.g. pd.read_csv)\n",
        "from pandas import read_csv # Importing the read_csv method \n",
        "                            # as it will allow us to write cleaner code\n",
        "%matplotlib inline\n",
        "from pylab import *\n",
        "from natsort import index_natsorted\n",
        "import seaborn as sns\n",
        "sns.set_theme(style=\"ticks\")\n",
        "import sqlite3\n",
        "\n",
        "# Connect to a database w sqlite3\n",
        "connection = sqlite3.connect('mydatbase.db')\n",
        "crsr_for_database = connection.cursor()\n",
        "print(\"Connected to 'mydatabase.db'\")\n",
        "        \n",
        "# Assigning variable to the datasets\n",
        "# These names will represent the three different \n",
        "# data sets used to create this project\n",
        "\n",
        "single_family_data = read_csv('/content/datasets/single_family_home.csv')\n",
        "condo_data = read_csv('/content/datasets/median_condo_price.csv')\n",
        "black_and_latino_data = read_csv('/content/datasets/black_and_latino_mortgage_rates.csv')\n",
        "\n",
        "# Prints a message to show that everything is loaded up\n",
        "print(\"All systems GO!\")"
      ]
    },
    {
      "cell_type": "markdown",
      "id": "6cb85e06",
      "metadata": {
        "papermill": {
          "duration": 0.00209,
          "end_time": "2023-01-01T15:46:59.362330",
          "exception": false,
          "start_time": "2023-01-01T15:46:59.360240",
          "status": "completed"
        },
        "tags": [],
        "id": "6cb85e06"
      },
      "source": [
        "### Single Family Home Data Cleaning"
      ]
    },
    {
      "cell_type": "code",
      "execution_count": 18,
      "id": "bb33270c",
      "metadata": {
        "execution": {
          "iopub.execute_input": "2023-01-01T15:46:59.368405Z",
          "iopub.status.busy": "2023-01-01T15:46:59.367701Z",
          "iopub.status.idle": "2023-01-01T15:46:59.376903Z",
          "shell.execute_reply": "2023-01-01T15:46:59.375889Z"
        },
        "papermill": {
          "duration": 0.014382,
          "end_time": "2023-01-01T15:46:59.378958",
          "exception": false,
          "start_time": "2023-01-01T15:46:59.364576",
          "status": "completed"
        },
        "tags": [],
        "colab": {
          "base_uri": "https://localhost:8080/"
        },
        "id": "bb33270c",
        "outputId": "a9abfa86-8f74-4952-e676-7ab4d9ab6418"
      },
      "outputs": [
        {
          "output_type": "stream",
          "name": "stdout",
          "text": [
            "Total number of 'NaN' inputs: \n",
            "\n",
            "Municipality                            0\n",
            "Communities Type                        0\n",
            "Median Sale Price, Jan - June 2021      0\n",
            "Median Sale Price, Jan - June 2022      0\n",
            "% Change                                0\n",
            "Notes                                 146\n",
            "dtype: int64\n",
            "\n",
            "Total number of 'Null' inputs: \n",
            "Municipality                            0\n",
            "Communities Type                        0\n",
            "Median Sale Price, Jan - June 2021      0\n",
            "Median Sale Price, Jan - June 2022      0\n",
            "% Change                                0\n",
            "Notes                                 146\n",
            "dtype: int64\n",
            "\n",
            "\n",
            "Index(['Municipality', 'Communities Type',\n",
            "       'Median Sale Price, Jan - June 2021',\n",
            "       'Median Sale Price, Jan - June 2022', '% Change', 'Notes'],\n",
            "      dtype='object')\n"
          ]
        }
      ],
      "source": [
        "# Removing NaN values by removing the 'Notes column \n",
        "# as those were the only 'NaN' values in the entire data set.\n",
        "# The other two data sets were complete and did not need to be amended\n",
        "\n",
        "# Prints off all the columns and the amount of NaN vals for each\n",
        "# As shown below, There are no more 'NaN' values \n",
        "# as we removed the 'Notes'\n",
        "print(f\"Total number of 'NaN' inputs: \\n\\n{single_family_data.isna().sum()}\\n\")\n",
        "\n",
        "# Shows all values which may be 'Null'\n",
        "print(f\"Total number of 'Null' inputs: \\n{single_family_data.isnull().sum()}\\n\")\n",
        "\n",
        "# Prints all of the coumn names\n",
        "print(f\"\\n{single_family_data.columns}\")\n",
        "\n",
        "# Used the below command to remove the notes column as all of the values were 'NaN'\n",
        "# If you do not run all cells it will trigger an error when re run\n",
        "\n",
        "del single_family_data['Notes']"
      ]
    },
    {
      "cell_type": "code",
      "source": [
        "# testing the columns post deletion of 'Notes' col\n",
        "print(single_family_data.columns)"
      ],
      "metadata": {
        "colab": {
          "base_uri": "https://localhost:8080/"
        },
        "id": "lBYDPmzN34Xv",
        "outputId": "c8134ca7-0e37-4b1f-88de-6c30d3fb7ed7"
      },
      "id": "lBYDPmzN34Xv",
      "execution_count": 19,
      "outputs": [
        {
          "output_type": "stream",
          "name": "stdout",
          "text": [
            "Index(['Municipality', 'Communities Type',\n",
            "       'Median Sale Price, Jan - June 2021',\n",
            "       'Median Sale Price, Jan - June 2022', '% Change'],\n",
            "      dtype='object')\n"
          ]
        }
      ]
    },
    {
      "cell_type": "code",
      "source": [
        "# Need to remove % character from all values in the '% Change column before converting the type to a float"
      ],
      "metadata": {
        "id": "gKxb83DIlN7M"
      },
      "id": "gKxb83DIlN7M",
      "execution_count": 20,
      "outputs": []
    },
    {
      "cell_type": "markdown",
      "source": [
        "## First, Lets find out what we are dealing with first\n",
        "\n",
        "Knowing what you are dealing with is a huge part of the battle, if all one sees is numbers and percentages, then it will not make any sense and I would not have done my job properly.\n",
        "\n",
        "Being able to know what values mean helps the end user and every user in between. It may seem trivial to some but presenting this data in its correct order whill allow the viewer to quickly assess what the number means based on its placement on a: chart/graph/file"
      ],
      "metadata": {
        "id": "3zVGQhqysrru"
      },
      "id": "3zVGQhqysrru"
    },
    {
      "cell_type": "code",
      "source": [
        "# Showing the column names to get a little \n",
        "# more insight into the values we will be seeing\n",
        "def show_column_names():\n",
        "\n",
        "  # Single family\n",
        "  print(\"\\nSngle family data:\\n\")\n",
        "  for col in single_family_data.columns:\n",
        "    print(col)\n",
        "\n",
        "  # Condo\n",
        "  print(\"\\nCondo data:\\n\")\n",
        "  for col in condo_data.columns:\n",
        "    print(col)\n",
        "\n",
        "  # Black And Latino mortgages\n",
        "  print(\"\\nBlack and Latino data:\\n\")\n",
        "  for col in black_and_latino_data.columns:\n",
        "    print(col)\n",
        "\n",
        "show_column_names()"
      ],
      "metadata": {
        "colab": {
          "base_uri": "https://localhost:8080/"
        },
        "id": "6e3pDuUXsw_c",
        "outputId": "d3eec34c-a020-4b96-df9f-057ce3d36927"
      },
      "id": "6e3pDuUXsw_c",
      "execution_count": 21,
      "outputs": [
        {
          "output_type": "stream",
          "name": "stdout",
          "text": [
            "\n",
            "Sngle family data:\n",
            "\n",
            "Municipality\n",
            "Communities Type\n",
            "Median Sale Price, Jan - June 2021\n",
            "Median Sale Price, Jan - June 2022\n",
            "% Change\n",
            "\n",
            "Condo data:\n",
            "\n",
            "Town\n",
            "Community Type\n",
            "Condo.2021\n",
            "Condo.2022\n",
            "Condo.PercChange\n",
            "\n",
            "Black and Latino data:\n",
            "\n",
            "Municipality\n",
            "Community Type\n",
            "Percent of Home Loans to Black and Latino Buyers\n"
          ]
        }
      ]
    },
    {
      "cell_type": "markdown",
      "id": "9e05dd1a",
      "metadata": {
        "papermill": {
          "duration": 0.002259,
          "end_time": "2023-01-01T15:46:59.384042",
          "exception": false,
          "start_time": "2023-01-01T15:46:59.381783",
          "status": "completed"
        },
        "tags": [],
        "id": "9e05dd1a"
      },
      "source": [
        "### Showing the Head and Tail"
      ]
    },
    {
      "cell_type": "code",
      "execution_count": 22,
      "id": "77ede2ba",
      "metadata": {
        "execution": {
          "iopub.execute_input": "2023-01-01T15:46:59.389635Z",
          "iopub.status.busy": "2023-01-01T15:46:59.389352Z",
          "iopub.status.idle": "2023-01-01T15:46:59.403164Z",
          "shell.execute_reply": "2023-01-01T15:46:59.402430Z"
        },
        "papermill": {
          "duration": 0.018418,
          "end_time": "2023-01-01T15:46:59.404766",
          "exception": false,
          "start_time": "2023-01-01T15:46:59.386348",
          "status": "completed"
        },
        "tags": [],
        "colab": {
          "base_uri": "https://localhost:8080/",
          "height": 206
        },
        "id": "77ede2ba",
        "outputId": "20958482-a97f-401b-d02d-d3db5b9498ca"
      },
      "outputs": [
        {
          "output_type": "execute_result",
          "data": {
            "text/plain": [
              "  Municipality        Communities Type  Median Sale Price, Jan - June 2021  \\\n",
              "0       Boston  Metro Core Communities                             3462500   \n",
              "1    Cambridge  Metro Core Communities                             1537500   \n",
              "2       Lowell  Regional Urban Centers                              415000   \n",
              "3     Brockton  Regional Urban Centers                              377500   \n",
              "4       Quincy  Regional Urban Centers                              605000   \n",
              "\n",
              "   Median Sale Price, Jan - June 2022 % Change  \n",
              "0                             4400000    27.1%  \n",
              "1                             1775000    15.4%  \n",
              "2                              439000     5.8%  \n",
              "3                              430000    13.9%  \n",
              "4                              640000     5.8%  "
            ],
            "text/html": [
              "\n",
              "  <div id=\"df-9992d137-f68b-4506-b271-f972494d5231\">\n",
              "    <div class=\"colab-df-container\">\n",
              "      <div>\n",
              "<style scoped>\n",
              "    .dataframe tbody tr th:only-of-type {\n",
              "        vertical-align: middle;\n",
              "    }\n",
              "\n",
              "    .dataframe tbody tr th {\n",
              "        vertical-align: top;\n",
              "    }\n",
              "\n",
              "    .dataframe thead th {\n",
              "        text-align: right;\n",
              "    }\n",
              "</style>\n",
              "<table border=\"1\" class=\"dataframe\">\n",
              "  <thead>\n",
              "    <tr style=\"text-align: right;\">\n",
              "      <th></th>\n",
              "      <th>Municipality</th>\n",
              "      <th>Communities Type</th>\n",
              "      <th>Median Sale Price, Jan - June 2021</th>\n",
              "      <th>Median Sale Price, Jan - June 2022</th>\n",
              "      <th>% Change</th>\n",
              "    </tr>\n",
              "  </thead>\n",
              "  <tbody>\n",
              "    <tr>\n",
              "      <th>0</th>\n",
              "      <td>Boston</td>\n",
              "      <td>Metro Core Communities</td>\n",
              "      <td>3462500</td>\n",
              "      <td>4400000</td>\n",
              "      <td>27.1%</td>\n",
              "    </tr>\n",
              "    <tr>\n",
              "      <th>1</th>\n",
              "      <td>Cambridge</td>\n",
              "      <td>Metro Core Communities</td>\n",
              "      <td>1537500</td>\n",
              "      <td>1775000</td>\n",
              "      <td>15.4%</td>\n",
              "    </tr>\n",
              "    <tr>\n",
              "      <th>2</th>\n",
              "      <td>Lowell</td>\n",
              "      <td>Regional Urban Centers</td>\n",
              "      <td>415000</td>\n",
              "      <td>439000</td>\n",
              "      <td>5.8%</td>\n",
              "    </tr>\n",
              "    <tr>\n",
              "      <th>3</th>\n",
              "      <td>Brockton</td>\n",
              "      <td>Regional Urban Centers</td>\n",
              "      <td>377500</td>\n",
              "      <td>430000</td>\n",
              "      <td>13.9%</td>\n",
              "    </tr>\n",
              "    <tr>\n",
              "      <th>4</th>\n",
              "      <td>Quincy</td>\n",
              "      <td>Regional Urban Centers</td>\n",
              "      <td>605000</td>\n",
              "      <td>640000</td>\n",
              "      <td>5.8%</td>\n",
              "    </tr>\n",
              "  </tbody>\n",
              "</table>\n",
              "</div>\n",
              "      <button class=\"colab-df-convert\" onclick=\"convertToInteractive('df-9992d137-f68b-4506-b271-f972494d5231')\"\n",
              "              title=\"Convert this dataframe to an interactive table.\"\n",
              "              style=\"display:none;\">\n",
              "        \n",
              "  <svg xmlns=\"http://www.w3.org/2000/svg\" height=\"24px\"viewBox=\"0 0 24 24\"\n",
              "       width=\"24px\">\n",
              "    <path d=\"M0 0h24v24H0V0z\" fill=\"none\"/>\n",
              "    <path d=\"M18.56 5.44l.94 2.06.94-2.06 2.06-.94-2.06-.94-.94-2.06-.94 2.06-2.06.94zm-11 1L8.5 8.5l.94-2.06 2.06-.94-2.06-.94L8.5 2.5l-.94 2.06-2.06.94zm10 10l.94 2.06.94-2.06 2.06-.94-2.06-.94-.94-2.06-.94 2.06-2.06.94z\"/><path d=\"M17.41 7.96l-1.37-1.37c-.4-.4-.92-.59-1.43-.59-.52 0-1.04.2-1.43.59L10.3 9.45l-7.72 7.72c-.78.78-.78 2.05 0 2.83L4 21.41c.39.39.9.59 1.41.59.51 0 1.02-.2 1.41-.59l7.78-7.78 2.81-2.81c.8-.78.8-2.07 0-2.86zM5.41 20L4 18.59l7.72-7.72 1.47 1.35L5.41 20z\"/>\n",
              "  </svg>\n",
              "      </button>\n",
              "      \n",
              "  <style>\n",
              "    .colab-df-container {\n",
              "      display:flex;\n",
              "      flex-wrap:wrap;\n",
              "      gap: 12px;\n",
              "    }\n",
              "\n",
              "    .colab-df-convert {\n",
              "      background-color: #E8F0FE;\n",
              "      border: none;\n",
              "      border-radius: 50%;\n",
              "      cursor: pointer;\n",
              "      display: none;\n",
              "      fill: #1967D2;\n",
              "      height: 32px;\n",
              "      padding: 0 0 0 0;\n",
              "      width: 32px;\n",
              "    }\n",
              "\n",
              "    .colab-df-convert:hover {\n",
              "      background-color: #E2EBFA;\n",
              "      box-shadow: 0px 1px 2px rgba(60, 64, 67, 0.3), 0px 1px 3px 1px rgba(60, 64, 67, 0.15);\n",
              "      fill: #174EA6;\n",
              "    }\n",
              "\n",
              "    [theme=dark] .colab-df-convert {\n",
              "      background-color: #3B4455;\n",
              "      fill: #D2E3FC;\n",
              "    }\n",
              "\n",
              "    [theme=dark] .colab-df-convert:hover {\n",
              "      background-color: #434B5C;\n",
              "      box-shadow: 0px 1px 3px 1px rgba(0, 0, 0, 0.15);\n",
              "      filter: drop-shadow(0px 1px 2px rgba(0, 0, 0, 0.3));\n",
              "      fill: #FFFFFF;\n",
              "    }\n",
              "  </style>\n",
              "\n",
              "      <script>\n",
              "        const buttonEl =\n",
              "          document.querySelector('#df-9992d137-f68b-4506-b271-f972494d5231 button.colab-df-convert');\n",
              "        buttonEl.style.display =\n",
              "          google.colab.kernel.accessAllowed ? 'block' : 'none';\n",
              "\n",
              "        async function convertToInteractive(key) {\n",
              "          const element = document.querySelector('#df-9992d137-f68b-4506-b271-f972494d5231');\n",
              "          const dataTable =\n",
              "            await google.colab.kernel.invokeFunction('convertToInteractive',\n",
              "                                                     [key], {});\n",
              "          if (!dataTable) return;\n",
              "\n",
              "          const docLinkHtml = 'Like what you see? Visit the ' +\n",
              "            '<a target=\"_blank\" href=https://colab.research.google.com/notebooks/data_table.ipynb>data table notebook</a>'\n",
              "            + ' to learn more about interactive tables.';\n",
              "          element.innerHTML = '';\n",
              "          dataTable['output_type'] = 'display_data';\n",
              "          await google.colab.output.renderOutput(dataTable, element);\n",
              "          const docLink = document.createElement('div');\n",
              "          docLink.innerHTML = docLinkHtml;\n",
              "          element.appendChild(docLink);\n",
              "        }\n",
              "      </script>\n",
              "    </div>\n",
              "  </div>\n",
              "  "
            ]
          },
          "metadata": {},
          "execution_count": 22
        }
      ],
      "source": [
        "# This command will show us the first 5 rows of data\n",
        "# The data is sorted in no particular order\n",
        "# Just the order they were entered into the CSV file\n",
        "\n",
        "single_family_data.head()"
      ]
    },
    {
      "cell_type": "code",
      "execution_count": 23,
      "id": "b29dc447",
      "metadata": {
        "execution": {
          "iopub.execute_input": "2023-01-01T15:46:59.411064Z",
          "iopub.status.busy": "2023-01-01T15:46:59.410630Z",
          "iopub.status.idle": "2023-01-01T15:46:59.419454Z",
          "shell.execute_reply": "2023-01-01T15:46:59.418854Z"
        },
        "papermill": {
          "duration": 0.013706,
          "end_time": "2023-01-01T15:46:59.421047",
          "exception": false,
          "start_time": "2023-01-01T15:46:59.407341",
          "status": "completed"
        },
        "tags": [],
        "colab": {
          "base_uri": "https://localhost:8080/",
          "height": 206
        },
        "id": "b29dc447",
        "outputId": "973dfc67-0ce1-4cd1-8ad5-c823e5eb9816"
      },
      "outputs": [
        {
          "output_type": "execute_result",
          "data": {
            "text/plain": [
              "    Municipality    Communities Type  Median Sale Price, Jan - June 2021  \\\n",
              "142        Essex  Developing Suburbs                              625750   \n",
              "143    Dunstable  Developing Suburbs                              617500   \n",
              "144       Nahant    Maturing Suburbs                              805000   \n",
              "145        Ashby         Rural Towns                              350000   \n",
              "146     Plympton  Developing Suburbs                              487500   \n",
              "\n",
              "     Median Sale Price, Jan - June 2022 % Change  \n",
              "142                              670000     7.1%  \n",
              "143                              690000    11.7%  \n",
              "144                             1030000    28.0%  \n",
              "145                              370250     5.8%  \n",
              "146                              525000     7.7%  "
            ],
            "text/html": [
              "\n",
              "  <div id=\"df-b841c2b7-04d4-486e-bb04-ab111ffc10b9\">\n",
              "    <div class=\"colab-df-container\">\n",
              "      <div>\n",
              "<style scoped>\n",
              "    .dataframe tbody tr th:only-of-type {\n",
              "        vertical-align: middle;\n",
              "    }\n",
              "\n",
              "    .dataframe tbody tr th {\n",
              "        vertical-align: top;\n",
              "    }\n",
              "\n",
              "    .dataframe thead th {\n",
              "        text-align: right;\n",
              "    }\n",
              "</style>\n",
              "<table border=\"1\" class=\"dataframe\">\n",
              "  <thead>\n",
              "    <tr style=\"text-align: right;\">\n",
              "      <th></th>\n",
              "      <th>Municipality</th>\n",
              "      <th>Communities Type</th>\n",
              "      <th>Median Sale Price, Jan - June 2021</th>\n",
              "      <th>Median Sale Price, Jan - June 2022</th>\n",
              "      <th>% Change</th>\n",
              "    </tr>\n",
              "  </thead>\n",
              "  <tbody>\n",
              "    <tr>\n",
              "      <th>142</th>\n",
              "      <td>Essex</td>\n",
              "      <td>Developing Suburbs</td>\n",
              "      <td>625750</td>\n",
              "      <td>670000</td>\n",
              "      <td>7.1%</td>\n",
              "    </tr>\n",
              "    <tr>\n",
              "      <th>143</th>\n",
              "      <td>Dunstable</td>\n",
              "      <td>Developing Suburbs</td>\n",
              "      <td>617500</td>\n",
              "      <td>690000</td>\n",
              "      <td>11.7%</td>\n",
              "    </tr>\n",
              "    <tr>\n",
              "      <th>144</th>\n",
              "      <td>Nahant</td>\n",
              "      <td>Maturing Suburbs</td>\n",
              "      <td>805000</td>\n",
              "      <td>1030000</td>\n",
              "      <td>28.0%</td>\n",
              "    </tr>\n",
              "    <tr>\n",
              "      <th>145</th>\n",
              "      <td>Ashby</td>\n",
              "      <td>Rural Towns</td>\n",
              "      <td>350000</td>\n",
              "      <td>370250</td>\n",
              "      <td>5.8%</td>\n",
              "    </tr>\n",
              "    <tr>\n",
              "      <th>146</th>\n",
              "      <td>Plympton</td>\n",
              "      <td>Developing Suburbs</td>\n",
              "      <td>487500</td>\n",
              "      <td>525000</td>\n",
              "      <td>7.7%</td>\n",
              "    </tr>\n",
              "  </tbody>\n",
              "</table>\n",
              "</div>\n",
              "      <button class=\"colab-df-convert\" onclick=\"convertToInteractive('df-b841c2b7-04d4-486e-bb04-ab111ffc10b9')\"\n",
              "              title=\"Convert this dataframe to an interactive table.\"\n",
              "              style=\"display:none;\">\n",
              "        \n",
              "  <svg xmlns=\"http://www.w3.org/2000/svg\" height=\"24px\"viewBox=\"0 0 24 24\"\n",
              "       width=\"24px\">\n",
              "    <path d=\"M0 0h24v24H0V0z\" fill=\"none\"/>\n",
              "    <path d=\"M18.56 5.44l.94 2.06.94-2.06 2.06-.94-2.06-.94-.94-2.06-.94 2.06-2.06.94zm-11 1L8.5 8.5l.94-2.06 2.06-.94-2.06-.94L8.5 2.5l-.94 2.06-2.06.94zm10 10l.94 2.06.94-2.06 2.06-.94-2.06-.94-.94-2.06-.94 2.06-2.06.94z\"/><path d=\"M17.41 7.96l-1.37-1.37c-.4-.4-.92-.59-1.43-.59-.52 0-1.04.2-1.43.59L10.3 9.45l-7.72 7.72c-.78.78-.78 2.05 0 2.83L4 21.41c.39.39.9.59 1.41.59.51 0 1.02-.2 1.41-.59l7.78-7.78 2.81-2.81c.8-.78.8-2.07 0-2.86zM5.41 20L4 18.59l7.72-7.72 1.47 1.35L5.41 20z\"/>\n",
              "  </svg>\n",
              "      </button>\n",
              "      \n",
              "  <style>\n",
              "    .colab-df-container {\n",
              "      display:flex;\n",
              "      flex-wrap:wrap;\n",
              "      gap: 12px;\n",
              "    }\n",
              "\n",
              "    .colab-df-convert {\n",
              "      background-color: #E8F0FE;\n",
              "      border: none;\n",
              "      border-radius: 50%;\n",
              "      cursor: pointer;\n",
              "      display: none;\n",
              "      fill: #1967D2;\n",
              "      height: 32px;\n",
              "      padding: 0 0 0 0;\n",
              "      width: 32px;\n",
              "    }\n",
              "\n",
              "    .colab-df-convert:hover {\n",
              "      background-color: #E2EBFA;\n",
              "      box-shadow: 0px 1px 2px rgba(60, 64, 67, 0.3), 0px 1px 3px 1px rgba(60, 64, 67, 0.15);\n",
              "      fill: #174EA6;\n",
              "    }\n",
              "\n",
              "    [theme=dark] .colab-df-convert {\n",
              "      background-color: #3B4455;\n",
              "      fill: #D2E3FC;\n",
              "    }\n",
              "\n",
              "    [theme=dark] .colab-df-convert:hover {\n",
              "      background-color: #434B5C;\n",
              "      box-shadow: 0px 1px 3px 1px rgba(0, 0, 0, 0.15);\n",
              "      filter: drop-shadow(0px 1px 2px rgba(0, 0, 0, 0.3));\n",
              "      fill: #FFFFFF;\n",
              "    }\n",
              "  </style>\n",
              "\n",
              "      <script>\n",
              "        const buttonEl =\n",
              "          document.querySelector('#df-b841c2b7-04d4-486e-bb04-ab111ffc10b9 button.colab-df-convert');\n",
              "        buttonEl.style.display =\n",
              "          google.colab.kernel.accessAllowed ? 'block' : 'none';\n",
              "\n",
              "        async function convertToInteractive(key) {\n",
              "          const element = document.querySelector('#df-b841c2b7-04d4-486e-bb04-ab111ffc10b9');\n",
              "          const dataTable =\n",
              "            await google.colab.kernel.invokeFunction('convertToInteractive',\n",
              "                                                     [key], {});\n",
              "          if (!dataTable) return;\n",
              "\n",
              "          const docLinkHtml = 'Like what you see? Visit the ' +\n",
              "            '<a target=\"_blank\" href=https://colab.research.google.com/notebooks/data_table.ipynb>data table notebook</a>'\n",
              "            + ' to learn more about interactive tables.';\n",
              "          element.innerHTML = '';\n",
              "          dataTable['output_type'] = 'display_data';\n",
              "          await google.colab.output.renderOutput(dataTable, element);\n",
              "          const docLink = document.createElement('div');\n",
              "          docLink.innerHTML = docLinkHtml;\n",
              "          element.appendChild(docLink);\n",
              "        }\n",
              "      </script>\n",
              "    </div>\n",
              "  </div>\n",
              "  "
            ]
          },
          "metadata": {},
          "execution_count": 23
        }
      ],
      "source": [
        "# This command will show us the last 5 rows of data\n",
        "single_family_data.tail()"
      ]
    },
    {
      "cell_type": "code",
      "source": [
        "# Getting a head/tail for all 3 datasets\n",
        "def get_head_and_tail():\n",
        "  # Single family data\n",
        "  print(\"Single family:\\n\")\n",
        "  print(single_family_data.head())\n",
        "  print(single_family_data.tail())\n",
        "  # Condo data\n",
        "  print(\"Condo data: \\n\")\n",
        "  print(condo_data.head())\n",
        "  print(condo_data.tail())\n",
        "  #Black and Latino data\n",
        "  print(\"Black and Latino owner share: \\n\")\n",
        "  print(black_and_latino_data.head())\n",
        "  print(black_and_latino_data.tail())\n",
        "\n",
        "get_head_and_tail()"
      ],
      "metadata": {
        "colab": {
          "base_uri": "https://localhost:8080/"
        },
        "id": "YLU-Dxaw73UE",
        "outputId": "381b37d5-2b9e-4ca2-f0d9-06c94388be25"
      },
      "id": "YLU-Dxaw73UE",
      "execution_count": 24,
      "outputs": [
        {
          "output_type": "stream",
          "name": "stdout",
          "text": [
            "Single family:\n",
            "\n",
            "  Municipality        Communities Type  Median Sale Price, Jan - June 2021  \\\n",
            "0       Boston  Metro Core Communities                             3462500   \n",
            "1    Cambridge  Metro Core Communities                             1537500   \n",
            "2       Lowell  Regional Urban Centers                              415000   \n",
            "3     Brockton  Regional Urban Centers                              377500   \n",
            "4       Quincy  Regional Urban Centers                              605000   \n",
            "\n",
            "   Median Sale Price, Jan - June 2022 % Change  \n",
            "0                             4400000    27.1%  \n",
            "1                             1775000    15.4%  \n",
            "2                              439000     5.8%  \n",
            "3                              430000    13.9%  \n",
            "4                              640000     5.8%  \n",
            "    Municipality    Communities Type  Median Sale Price, Jan - June 2021  \\\n",
            "142        Essex  Developing Suburbs                              625750   \n",
            "143    Dunstable  Developing Suburbs                              617500   \n",
            "144       Nahant    Maturing Suburbs                              805000   \n",
            "145        Ashby         Rural Towns                              350000   \n",
            "146     Plympton  Developing Suburbs                              487500   \n",
            "\n",
            "     Median Sale Price, Jan - June 2022 % Change  \n",
            "142                              670000     7.1%  \n",
            "143                              690000    11.7%  \n",
            "144                             1030000    28.0%  \n",
            "145                              370250     5.8%  \n",
            "146                              525000     7.7%  \n",
            "Condo data: \n",
            "\n",
            "        Town          Community Type  Condo.2021  Condo.2022 Condo.PercChange\n",
            "0   Abington      Developing Suburbs      349000      400000           14.60%\n",
            "1      Acton        Maturing Suburbs      370000      376000            1.60%\n",
            "2   Amesbury  Regional Urban Centers      340000      360500            6.00%\n",
            "3    Andover      Developing Suburbs      374995      455000           21.30%\n",
            "4  Arlington       Streetcar Suburbs      695000      812500           16.90%\n",
            "           Town          Community Type  Condo.2021  Condo.2022  \\\n",
            "142  Wilmington        Maturing Suburbs      477000      635000   \n",
            "143  Winchester        Maturing Suburbs      650000      765000   \n",
            "144    Winthrop       Streetcar Suburbs      465000      505000   \n",
            "145      Woburn  Regional Urban Centers      480000      525000   \n",
            "146    Wrentham      Developing Suburbs      413000      748372   \n",
            "\n",
            "    Condo.PercChange  \n",
            "142              -34  \n",
            "143           17.70%  \n",
            "144            8.60%  \n",
            "145            9.40%  \n",
            "146           81.20%  \n",
            "Black and Latino owner share: \n",
            "\n",
            "  Municipality          Community Type  \\\n",
            "0       Boston  Metro Core Communities   \n",
            "1    Cambridge  Metro Core Communities   \n",
            "2       Lowell  Regional Urban Centers   \n",
            "3     Brockton  Regional Urban Centers   \n",
            "4       Quincy  Regional Urban Centers   \n",
            "\n",
            "  Percent of Home Loans to Black and Latino Buyers  \n",
            "0                                            10.9%  \n",
            "1                                             4.6%  \n",
            "2                                            27.1%  \n",
            "3                                            65.9%  \n",
            "4                                             5.1%  \n",
            "    Municipality      Community Type  \\\n",
            "142        Essex  Developing Suburbs   \n",
            "143    Dunstable  Developing Suburbs   \n",
            "144       Nahant    Maturing Suburbs   \n",
            "145        Ashby         Rural Towns   \n",
            "146     Plympton  Developing Suburbs   \n",
            "\n",
            "    Percent of Home Loans to Black and Latino Buyers  \n",
            "142                                             0.0%  \n",
            "143                                             2.0%  \n",
            "144                                             7.7%  \n",
            "145                                            12.0%  \n",
            "146                                             6.1%  \n"
          ]
        }
      ]
    },
    {
      "cell_type": "markdown",
      "id": "f405ef61",
      "metadata": {
        "papermill": {
          "duration": 0.002528,
          "end_time": "2023-01-01T15:46:59.426306",
          "exception": false,
          "start_time": "2023-01-01T15:46:59.423778",
          "status": "completed"
        },
        "tags": [],
        "id": "f405ef61"
      },
      "source": [
        "## Let's start presenting the data\n"
      ]
    },
    {
      "cell_type": "code",
      "execution_count": 33,
      "id": "62b30872",
      "metadata": {
        "execution": {
          "iopub.execute_input": "2023-01-01T15:46:59.432903Z",
          "iopub.status.busy": "2023-01-01T15:46:59.432453Z",
          "iopub.status.idle": "2023-01-01T15:46:59.723234Z",
          "shell.execute_reply": "2023-01-01T15:46:59.722257Z"
        },
        "papermill": {
          "duration": 0.296039,
          "end_time": "2023-01-01T15:46:59.725094",
          "exception": false,
          "start_time": "2023-01-01T15:46:59.429055",
          "status": "completed"
        },
        "tags": [],
        "colab": {
          "base_uri": "https://localhost:8080/",
          "height": 297
        },
        "id": "62b30872",
        "outputId": "258922a5-07a2-4968-8feb-4239b64762e0"
      },
      "outputs": [
        {
          "output_type": "execute_result",
          "data": {
            "text/plain": [
              "<matplotlib.axes._subplots.AxesSubplot at 0x7f3f4c9264f0>"
            ]
          },
          "metadata": {},
          "execution_count": 33
        },
        {
          "output_type": "display_data",
          "data": {
            "text/plain": [
              "<Figure size 432x288 with 1 Axes>"
            ],
            "image/png": "[encoded data removed]"
          },
          "metadata": {}
        }
      ],
      "source": [
        "# The below is just a simple line graph using seaborn to show the data\n",
        "sns.lineplot(data=single_family_data)"
      ]
    },
    {
      "cell_type": "code",
      "source": [
        "black_and_latino_data.tail()\n"
      ],
      "metadata": {
        "colab": {
          "base_uri": "https://localhost:8080/",
          "height": 215
        },
        "id": "ch8jN_It3yvx",
        "outputId": "ac6c007d-01f5-46d1-ddb8-9e7a9286bfcd"
      },
      "id": "ch8jN_It3yvx",
      "execution_count": 39,
      "outputs": [
        {
          "output_type": "execute_result",
          "data": {
            "text/plain": [
              "    Municipality      Community Type  \\\n",
              "142        Essex  Developing Suburbs   \n",
              "143    Dunstable  Developing Suburbs   \n",
              "144       Nahant    Maturing Suburbs   \n",
              "145        Ashby         Rural Towns   \n",
              "146     Plympton  Developing Suburbs   \n",
              "\n",
              "    Percent of Home Loans to Black and Latino Buyers  \n",
              "142                                             0.0%  \n",
              "143                                             2.0%  \n",
              "144                                             7.7%  \n",
              "145                                            12.0%  \n",
              "146                                             6.1%  "
            ],
            "text/html": [
              "\n",
              "  <div id=\"df-01fe0520-31d3-47f3-ab71-f5a6ed2478a6\">\n",
              "    <div class=\"colab-df-container\">\n",
              "      <div>\n",
              "<style scoped>\n",
              "    .dataframe tbody tr th:only-of-type {\n",
              "        vertical-align: middle;\n",
              "    }\n",
              "\n",
              "    .dataframe tbody tr th {\n",
              "        vertical-align: top;\n",
              "    }\n",
              "\n",
              "    .dataframe thead th {\n",
              "        text-align: right;\n",
              "    }\n",
              "</style>\n",
              "<table border=\"1\" class=\"dataframe\">\n",
              "  <thead>\n",
              "    <tr style=\"text-align: right;\">\n",
              "      <th></th>\n",
              "      <th>Municipality</th>\n",
              "      <th>Community Type</th>\n",
              "      <th>Percent of Home Loans to Black and Latino Buyers</th>\n",
              "    </tr>\n",
              "  </thead>\n",
              "  <tbody>\n",
              "    <tr>\n",
              "      <th>142</th>\n",
              "      <td>Essex</td>\n",
              "      <td>Developing Suburbs</td>\n",
              "      <td>0.0%</td>\n",
              "    </tr>\n",
              "    <tr>\n",
              "      <th>143</th>\n",
              "      <td>Dunstable</td>\n",
              "      <td>Developing Suburbs</td>\n",
              "      <td>2.0%</td>\n",
              "    </tr>\n",
              "    <tr>\n",
              "      <th>144</th>\n",
              "      <td>Nahant</td>\n",
              "      <td>Maturing Suburbs</td>\n",
              "      <td>7.7%</td>\n",
              "    </tr>\n",
              "    <tr>\n",
              "      <th>145</th>\n",
              "      <td>Ashby</td>\n",
              "      <td>Rural Towns</td>\n",
              "      <td>12.0%</td>\n",
              "    </tr>\n",
              "    <tr>\n",
              "      <th>146</th>\n",
              "      <td>Plympton</td>\n",
              "      <td>Developing Suburbs</td>\n",
              "      <td>6.1%</td>\n",
              "    </tr>\n",
              "  </tbody>\n",
              "</table>\n",
              "</div>\n",
              "      <button class=\"colab-df-convert\" onclick=\"convertToInteractive('df-01fe0520-31d3-47f3-ab71-f5a6ed2478a6')\"\n",
              "              title=\"Convert this dataframe to an interactive table.\"\n",
              "              style=\"display:none;\">\n",
              "        \n",
              "  <svg xmlns=\"http://www.w3.org/2000/svg\" height=\"24px\"viewBox=\"0 0 24 24\"\n",
              "       width=\"24px\">\n",
              "    <path d=\"M0 0h24v24H0V0z\" fill=\"none\"/>\n",
              "    <path d=\"M18.56 5.44l.94 2.06.94-2.06 2.06-.94-2.06-.94-.94-2.06-.94 2.06-2.06.94zm-11 1L8.5 8.5l.94-2.06 2.06-.94-2.06-.94L8.5 2.5l-.94 2.06-2.06.94zm10 10l.94 2.06.94-2.06 2.06-.94-2.06-.94-.94-2.06-.94 2.06-2.06.94z\"/><path d=\"M17.41 7.96l-1.37-1.37c-.4-.4-.92-.59-1.43-.59-.52 0-1.04.2-1.43.59L10.3 9.45l-7.72 7.72c-.78.78-.78 2.05 0 2.83L4 21.41c.39.39.9.59 1.41.59.51 0 1.02-.2 1.41-.59l7.78-7.78 2.81-2.81c.8-.78.8-2.07 0-2.86zM5.41 20L4 18.59l7.72-7.72 1.47 1.35L5.41 20z\"/>\n",
              "  </svg>\n",
              "      </button>\n",
              "      \n",
              "  <style>\n",
              "    .colab-df-container {\n",
              "      display:flex;\n",
              "      flex-wrap:wrap;\n",
              "      gap: 12px;\n",
              "    }\n",
              "\n",
              "    .colab-df-convert {\n",
              "      background-color: #E8F0FE;\n",
              "      border: none;\n",
              "      border-radius: 50%;\n",
              "      cursor: pointer;\n",
              "      display: none;\n",
              "      fill: #1967D2;\n",
              "      height: 32px;\n",
              "      padding: 0 0 0 0;\n",
              "      width: 32px;\n",
              "    }\n",
              "\n",
              "    .colab-df-convert:hover {\n",
              "      background-color: #E2EBFA;\n",
              "      box-shadow: 0px 1px 2px rgba(60, 64, 67, 0.3), 0px 1px 3px 1px rgba(60, 64, 67, 0.15);\n",
              "      fill: #174EA6;\n",
              "    }\n",
              "\n",
              "    [theme=dark] .colab-df-convert {\n",
              "      background-color: #3B4455;\n",
              "      fill: #D2E3FC;\n",
              "    }\n",
              "\n",
              "    [theme=dark] .colab-df-convert:hover {\n",
              "      background-color: #434B5C;\n",
              "      box-shadow: 0px 1px 3px 1px rgba(0, 0, 0, 0.15);\n",
              "      filter: drop-shadow(0px 1px 2px rgba(0, 0, 0, 0.3));\n",
              "      fill: #FFFFFF;\n",
              "    }\n",
              "  </style>\n",
              "\n",
              "      <script>\n",
              "        const buttonEl =\n",
              "          document.querySelector('#df-01fe0520-31d3-47f3-ab71-f5a6ed2478a6 button.colab-df-convert');\n",
              "        buttonEl.style.display =\n",
              "          google.colab.kernel.accessAllowed ? 'block' : 'none';\n",
              "\n",
              "        async function convertToInteractive(key) {\n",
              "          const element = document.querySelector('#df-01fe0520-31d3-47f3-ab71-f5a6ed2478a6');\n",
              "          const dataTable =\n",
              "            await google.colab.kernel.invokeFunction('convertToInteractive',\n",
              "                                                     [key], {});\n",
              "          if (!dataTable) return;\n",
              "\n",
              "          const docLinkHtml = 'Like what you see? Visit the ' +\n",
              "            '<a target=\"_blank\" href=https://colab.research.google.com/notebooks/data_table.ipynb>data table notebook</a>'\n",
              "            + ' to learn more about interactive tables.';\n",
              "          element.innerHTML = '';\n",
              "          dataTable['output_type'] = 'display_data';\n",
              "          await google.colab.output.renderOutput(dataTable, element);\n",
              "          const docLink = document.createElement('div');\n",
              "          docLink.innerHTML = docLinkHtml;\n",
              "          element.appendChild(docLink);\n",
              "        }\n",
              "      </script>\n",
              "    </div>\n",
              "  </div>\n",
              "  "
            ]
          },
          "metadata": {},
          "execution_count": 39
        }
      ]
    },
    {
      "cell_type": "code",
      "source": [
        "single_family_start_price = single_family_data.sort_values(by=\"Median Sale Price, Jan - June 2021\", ascending=False)\n",
        "print(single_family_start_price)\n",
        "single_family_start_price.head()"
      ],
      "metadata": {
        "id": "iIXG0SrZljSE"
      },
      "id": "iIXG0SrZljSE",
      "execution_count": 34,
      "outputs": []
    },
    {
      "cell_type": "code",
      "execution_count": 27,
      "id": "9be92afd",
      "metadata": {
        "papermill": {
          "duration": 0.003106,
          "end_time": "2023-01-01T15:46:59.731611",
          "exception": false,
          "start_time": "2023-01-01T15:46:59.728505",
          "status": "completed"
        },
        "tags": [],
        "colab": {
          "base_uri": "https://localhost:8080/"
        },
        "id": "9be92afd",
        "outputId": "b6019569-971a-439b-87c2-7a326790ee98"
      },
      "outputs": [
        {
          "output_type": "stream",
          "name": "stdout",
          "text": [
            "     Municipality    Communities Type  Median Sale Price, Jan - June 2021  \\\n",
            "91        Wayland    Maturing Suburbs                              950000   \n",
            "90       Kingston  Developing Suburbs                              535000   \n",
            "48        Danvers    Maturing Suburbs                              615000   \n",
            "32      Watertown   Streetcar Suburbs                              790000   \n",
            "47         Milton    Maturing Suburbs                              870000   \n",
            "..            ...                 ...                                 ...   \n",
            "140  West Newbury  Developing Suburbs                              810000   \n",
            "136        Marion  Developing Suburbs                              607500   \n",
            "92        Ipswich  Developing Suburbs                              747500   \n",
            "126     Groveland    Maturing Suburbs                              615000   \n",
            "124      Rockport  Developing Suburbs                              837500   \n",
            "\n",
            "     Median Sale Price, Jan - June 2022 % Change  \n",
            "91                               950000     0.0%  \n",
            "90                               537500     0.5%  \n",
            "48                               623700     1.4%  \n",
            "32                               802500     1.6%  \n",
            "47                               887500     2.0%  \n",
            "..                                  ...      ...  \n",
            "140                              740000    -8.6%  \n",
            "136                              550000    -9.5%  \n",
            "92                               657500   -12.0%  \n",
            "126                              521500   -15.2%  \n",
            "124                              660000   -21.2%  \n",
            "\n",
            "[147 rows x 5 columns]\n"
          ]
        }
      ],
      "source": [
        "# Using the natsort library I am able to naturally sort the values I would like\n",
        "sorted_single_family_data = single_family_data.sort_values(by=[\"% Change\"], ascending=True, key=lambda x: np.argsort(index_natsorted(single_family_data[\"% Change\"])))\n",
        "print(sorted_single_family_data)"
      ]
    },
    {
      "cell_type": "markdown",
      "source": [
        "### What can we do with this data:\n",
        "\n",
        "The sorting method allows us to sort and present data in a way that will let end users know which towns had the greatest changes (positive or negative) in price for single family homes in specictowns over the same period of time. \n",
        "\n",
        "##### What could people do with this information:\n",
        "\n",
        "The uses are many, once could use this to make an informed decision on where they could potentially purchase a home for the greatest return... or they could be a family who is strapped for cash and looking to purchase a home without thinking about upside/downside in price. \n",
        "\n",
        "The uses don't only have to satisfy one group. The data is the data is the data,so the overall use of it, in my opinion, is impartial. "
      ],
      "metadata": {
        "id": "H2WWly8djql8"
      },
      "id": "H2WWly8djql8"
    },
    {
      "cell_type": "code",
      "source": [
        "community_type_single_family = single_family_data.sort_values(by=[\"Communities Type\", \n",
        "                                                                  \"% Change\"], ascending=False, \n",
        "                                                              key=lambda x: np.argsort(index_natsorted(single_family_data[\"% Change\"])))\n",
        "community_type_single_family.head()\n"
      ],
      "metadata": {
        "id": "bosUFudOjmj2",
        "colab": {
          "base_uri": "https://localhost:8080/",
          "height": 206
        },
        "outputId": "244950f0-c3e3-48a7-db63-351eced9fcb4"
      },
      "id": "bosUFudOjmj2",
      "execution_count": 28,
      "outputs": [
        {
          "output_type": "execute_result",
          "data": {
            "text/plain": [
              "     Municipality    Communities Type  Median Sale Price, Jan - June 2021  \\\n",
              "124      Rockport  Developing Suburbs                              837500   \n",
              "126     Groveland    Maturing Suburbs                              615000   \n",
              "92        Ipswich  Developing Suburbs                              747500   \n",
              "136        Marion  Developing Suburbs                              607500   \n",
              "140  West Newbury  Developing Suburbs                              810000   \n",
              "\n",
              "     Median Sale Price, Jan - June 2022 % Change  \n",
              "124                              660000   -21.2%  \n",
              "126                              521500   -15.2%  \n",
              "92                               657500   -12.0%  \n",
              "136                              550000    -9.5%  \n",
              "140                              740000    -8.6%  "
            ],
            "text/html": [
              "\n",
              "  <div id=\"df-0101f78a-e065-4c1e-a330-f2902ba3d439\">\n",
              "    <div class=\"colab-df-container\">\n",
              "      <div>\n",
              "<style scoped>\n",
              "    .dataframe tbody tr th:only-of-type {\n",
              "        vertical-align: middle;\n",
              "    }\n",
              "\n",
              "    .dataframe tbody tr th {\n",
              "        vertical-align: top;\n",
              "    }\n",
              "\n",
              "    .dataframe thead th {\n",
              "        text-align: right;\n",
              "    }\n",
              "</style>\n",
              "<table border=\"1\" class=\"dataframe\">\n",
              "  <thead>\n",
              "    <tr style=\"text-align: right;\">\n",
              "      <th></th>\n",
              "      <th>Municipality</th>\n",
              "      <th>Communities Type</th>\n",
              "      <th>Median Sale Price, Jan - June 2021</th>\n",
              "      <th>Median Sale Price, Jan - June 2022</th>\n",
              "      <th>% Change</th>\n",
              "    </tr>\n",
              "  </thead>\n",
              "  <tbody>\n",
              "    <tr>\n",
              "      <th>124</th>\n",
              "      <td>Rockport</td>\n",
              "      <td>Developing Suburbs</td>\n",
              "      <td>837500</td>\n",
              "      <td>660000</td>\n",
              "      <td>-21.2%</td>\n",
              "    </tr>\n",
              "    <tr>\n",
              "      <th>126</th>\n",
              "      <td>Groveland</td>\n",
              "      <td>Maturing Suburbs</td>\n",
              "      <td>615000</td>\n",
              "      <td>521500</td>\n",
              "      <td>-15.2%</td>\n",
              "    </tr>\n",
              "    <tr>\n",
              "      <th>92</th>\n",
              "      <td>Ipswich</td>\n",
              "      <td>Developing Suburbs</td>\n",
              "      <td>747500</td>\n",
              "      <td>657500</td>\n",
              "      <td>-12.0%</td>\n",
              "    </tr>\n",
              "    <tr>\n",
              "      <th>136</th>\n",
              "      <td>Marion</td>\n",
              "      <td>Developing Suburbs</td>\n",
              "      <td>607500</td>\n",
              "      <td>550000</td>\n",
              "      <td>-9.5%</td>\n",
              "    </tr>\n",
              "    <tr>\n",
              "      <th>140</th>\n",
              "      <td>West Newbury</td>\n",
              "      <td>Developing Suburbs</td>\n",
              "      <td>810000</td>\n",
              "      <td>740000</td>\n",
              "      <td>-8.6%</td>\n",
              "    </tr>\n",
              "  </tbody>\n",
              "</table>\n",
              "</div>\n",
              "      <button class=\"colab-df-convert\" onclick=\"convertToInteractive('df-0101f78a-e065-4c1e-a330-f2902ba3d439')\"\n",
              "              title=\"Convert this dataframe to an interactive table.\"\n",
              "              style=\"display:none;\">\n",
              "        \n",
              "  <svg xmlns=\"http://www.w3.org/2000/svg\" height=\"24px\"viewBox=\"0 0 24 24\"\n",
              "       width=\"24px\">\n",
              "    <path d=\"M0 0h24v24H0V0z\" fill=\"none\"/>\n",
              "    <path d=\"M18.56 5.44l.94 2.06.94-2.06 2.06-.94-2.06-.94-.94-2.06-.94 2.06-2.06.94zm-11 1L8.5 8.5l.94-2.06 2.06-.94-2.06-.94L8.5 2.5l-.94 2.06-2.06.94zm10 10l.94 2.06.94-2.06 2.06-.94-2.06-.94-.94-2.06-.94 2.06-2.06.94z\"/><path d=\"M17.41 7.96l-1.37-1.37c-.4-.4-.92-.59-1.43-.59-.52 0-1.04.2-1.43.59L10.3 9.45l-7.72 7.72c-.78.78-.78 2.05 0 2.83L4 21.41c.39.39.9.59 1.41.59.51 0 1.02-.2 1.41-.59l7.78-7.78 2.81-2.81c.8-.78.8-2.07 0-2.86zM5.41 20L4 18.59l7.72-7.72 1.47 1.35L5.41 20z\"/>\n",
              "  </svg>\n",
              "      </button>\n",
              "      \n",
              "  <style>\n",
              "    .colab-df-container {\n",
              "      display:flex;\n",
              "      flex-wrap:wrap;\n",
              "      gap: 12px;\n",
              "    }\n",
              "\n",
              "    .colab-df-convert {\n",
              "      background-color: #E8F0FE;\n",
              "      border: none;\n",
              "      border-radius: 50%;\n",
              "      cursor: pointer;\n",
              "      display: none;\n",
              "      fill: #1967D2;\n",
              "      height: 32px;\n",
              "      padding: 0 0 0 0;\n",
              "      width: 32px;\n",
              "    }\n",
              "\n",
              "    .colab-df-convert:hover {\n",
              "      background-color: #E2EBFA;\n",
              "      box-shadow: 0px 1px 2px rgba(60, 64, 67, 0.3), 0px 1px 3px 1px rgba(60, 64, 67, 0.15);\n",
              "      fill: #174EA6;\n",
              "    }\n",
              "\n",
              "    [theme=dark] .colab-df-convert {\n",
              "      background-color: #3B4455;\n",
              "      fill: #D2E3FC;\n",
              "    }\n",
              "\n",
              "    [theme=dark] .colab-df-convert:hover {\n",
              "      background-color: #434B5C;\n",
              "      box-shadow: 0px 1px 3px 1px rgba(0, 0, 0, 0.15);\n",
              "      filter: drop-shadow(0px 1px 2px rgba(0, 0, 0, 0.3));\n",
              "      fill: #FFFFFF;\n",
              "    }\n",
              "  </style>\n",
              "\n",
              "      <script>\n",
              "        const buttonEl =\n",
              "          document.querySelector('#df-0101f78a-e065-4c1e-a330-f2902ba3d439 button.colab-df-convert');\n",
              "        buttonEl.style.display =\n",
              "          google.colab.kernel.accessAllowed ? 'block' : 'none';\n",
              "\n",
              "        async function convertToInteractive(key) {\n",
              "          const element = document.querySelector('#df-0101f78a-e065-4c1e-a330-f2902ba3d439');\n",
              "          const dataTable =\n",
              "            await google.colab.kernel.invokeFunction('convertToInteractive',\n",
              "                                                     [key], {});\n",
              "          if (!dataTable) return;\n",
              "\n",
              "          const docLinkHtml = 'Like what you see? Visit the ' +\n",
              "            '<a target=\"_blank\" href=https://colab.research.google.com/notebooks/data_table.ipynb>data table notebook</a>'\n",
              "            + ' to learn more about interactive tables.';\n",
              "          element.innerHTML = '';\n",
              "          dataTable['output_type'] = 'display_data';\n",
              "          await google.colab.output.renderOutput(dataTable, element);\n",
              "          const docLink = document.createElement('div');\n",
              "          docLink.innerHTML = docLinkHtml;\n",
              "          element.appendChild(docLink);\n",
              "        }\n",
              "      </script>\n",
              "    </div>\n",
              "  </div>\n",
              "  "
            ]
          },
          "metadata": {},
          "execution_count": 28
        }
      ]
    },
    {
      "cell_type": "markdown",
      "source": [
        "### Making sense of the single family data\n"
      ],
      "metadata": {
        "id": "-fMtyW7nwhML"
      },
      "id": "-fMtyW7nwhML"
    },
    {
      "cell_type": "code",
      "source": [
        "boston_single_family_data = single_family_data.loc[single_family_data['Municipality'] == \"Boston\"]\n",
        "print(boston_single_family_data)"
      ],
      "metadata": {
        "colab": {
          "base_uri": "https://localhost:8080/"
        },
        "id": "WBj1ezawefK7",
        "outputId": "4a6f99dc-5cc7-4868-8d42-fccbe9ec5100"
      },
      "id": "WBj1ezawefK7",
      "execution_count": 29,
      "outputs": [
        {
          "output_type": "stream",
          "name": "stdout",
          "text": [
            "  Municipality        Communities Type  Median Sale Price, Jan - June 2021  \\\n",
            "0       Boston  Metro Core Communities                             3462500   \n",
            "\n",
            "   Median Sale Price, Jan - June 2022 % Change  \n",
            "0                             4400000    27.1%  \n"
          ]
        }
      ]
    },
    {
      "cell_type": "code",
      "source": [
        "boston_condo_data = condo_data.loc[condo_data['Town'] == \"Boston\"]\n",
        "\n",
        "print(boston_condo_data)"
      ],
      "metadata": {
        "colab": {
          "base_uri": "https://localhost:8080/"
        },
        "id": "IWTIMkro5d1I",
        "outputId": "7967b49a-d5b3-4b10-d9cd-3472044b499d"
      },
      "id": "IWTIMkro5d1I",
      "execution_count": 30,
      "outputs": [
        {
          "output_type": "stream",
          "name": "stdout",
          "text": [
            "      Town          Community Type  Condo.2021  Condo.2022 Condo.PercChange\n",
            "14  Boston  Metro Core Communities      872000      999900           14.70%\n"
          ]
        }
      ]
    },
    {
      "cell_type": "code",
      "source": [
        "boston_black_and_latino = black_and_latino_data.loc[black_and_latino_data['Municipality'] == \"Boston\"]\n",
        "print(boston_black_and_latino)"
      ],
      "metadata": {
        "colab": {
          "base_uri": "https://localhost:8080/"
        },
        "id": "4_r3If8dew1N",
        "outputId": "1ae26342-a634-4bac-a51d-bf639d14a8cf"
      },
      "id": "4_r3If8dew1N",
      "execution_count": 31,
      "outputs": [
        {
          "output_type": "stream",
          "name": "stdout",
          "text": [
            "  Municipality          Community Type  \\\n",
            "0       Boston  Metro Core Communities   \n",
            "\n",
            "  Percent of Home Loans to Black and Latino Buyers  \n",
            "0                                            10.9%  \n"
          ]
        }
      ]
    },
    {
      "cell_type": "code",
      "source": [
        "def all_boston_data():\n",
        "  boston_single_family_data = single_family_data.loc[single_family_data['Municipality'] == \"Boston\"]\n",
        "  boston_condo_data = condo_data.loc[condo_data['Town'] == \"Boston\"]\n",
        "  boston_black_and_latino = black_and_latino_data.loc[black_and_latino_data['Municipality'] == \"Boston\"]\n",
        "\n",
        "  print(boston_single_family_data)\n",
        "  print(boston_condo_data)\n",
        "  print(boston_black_and_latino)\n",
        "\n",
        "all_boston_data()\n"
      ],
      "metadata": {
        "colab": {
          "base_uri": "https://localhost:8080/"
        },
        "id": "sgTiVPN0fkhI",
        "outputId": "7cf33ac4-0929-4193-fd3e-fc40c743a8e0"
      },
      "id": "sgTiVPN0fkhI",
      "execution_count": 32,
      "outputs": [
        {
          "output_type": "stream",
          "name": "stdout",
          "text": [
            "  Municipality        Communities Type  Median Sale Price, Jan - June 2021  \\\n",
            "0       Boston  Metro Core Communities                             3462500   \n",
            "\n",
            "   Median Sale Price, Jan - June 2022 % Change  \n",
            "0                             4400000    27.1%  \n",
            "      Town          Community Type  Condo.2021  Condo.2022 Condo.PercChange\n",
            "14  Boston  Metro Core Communities      872000      999900           14.70%\n",
            "  Municipality          Community Type  \\\n",
            "0       Boston  Metro Core Communities   \n",
            "\n",
            "  Percent of Home Loans to Black and Latino Buyers  \n",
            "0                                            10.9%  \n"
          ]
        }
      ]
    },
    {
      "cell_type": "code",
      "source": [
        "sns.set_theme(style=\"whitegrid\")\n",
        "single_family_data = single_family_data.rolling(7).mean()\n",
        "\n",
        "sns.lineplot(data=single_family_data, palette=\"tab10\", linewidth=2.5)"
      ],
      "metadata": {
        "id": "xXi-9gdkf4Q0",
        "colab": {
          "base_uri": "https://localhost:8080/",
          "height": 286
        },
        "outputId": "81011aa5-95df-41f2-cc33-f145c2983993"
      },
      "id": "xXi-9gdkf4Q0",
      "execution_count": 44,
      "outputs": [
        {
          "output_type": "execute_result",
          "data": {
            "text/plain": [
              "<matplotlib.axes._subplots.AxesSubplot at 0x7f3f4c8df7c0>"
            ]
          },
          "metadata": {},
          "execution_count": 44
        },
        {
          "output_type": "display_data",
          "data": {
            "text/plain": [
              "<Figure size 432x288 with 1 Axes>"
            ],
            "image/png": "[encoded data removed]"
          },
          "metadata": {}
        }
      ]
    },
    {
      "cell_type": "code",
      "source": [
        "# Replplot of the head values of the condo data\n",
        "head_condo_data = condo_data.head()\n",
        "sns.relplot(x=\"Town\", y=\"Condo.PercChange\", data=head_condo_data)\n"
      ],
      "metadata": {
        "colab": {
          "base_uri": "https://localhost:8080/",
          "height": 383
        },
        "id": "4b9Cy798B0jJ",
        "outputId": "3dabd4c8-75bc-4fcb-ba7d-6370bca1cb9b"
      },
      "id": "4b9Cy798B0jJ",
      "execution_count": 53,
      "outputs": [
        {
          "output_type": "execute_result",
          "data": {
            "text/plain": [
              "<seaborn.axisgrid.FacetGrid at 0x7f3f4553bb20>"
            ]
          },
          "metadata": {},
          "execution_count": 53
        },
        {
          "output_type": "display_data",
          "data": {
            "text/plain": [
              "<Figure size 360x360 with 1 Axes>"
            ],
            "image/png": "[encoded data removed]"
          },
          "metadata": {}
        }
      ]
    }
  ],
  "metadata": {
    "kernelspec": {
      "display_name": "Python 3",
      "language": "python",
      "name": "python3"
    },
    "language_info": {
      "codemirror_mode": {
        "name": "ipython",
        "version": 3
      },
      "file_extension": ".py",
      "mimetype": "text/x-python",
      "name": "python",
      "nbconvert_exporter": "python",
      "pygments_lexer": "ipython3",
      "version": "3.7.12"
    },
    "papermill": {
      "default_parameters": {},
      "duration": 7.999264,
      "end_time": "2023-01-01T15:47:00.352944",
      "environment_variables": {},
      "exception": null,
      "input_path": "__notebook__.ipynb",
      "output_path": "__notebook__.ipynb",
      "parameters": {},
      "start_time": "2023-01-01T15:46:52.353680",
      "version": "2.3.4"
    },
    "colab": {
      "provenance": []
    }
  },
  "nbformat": 4,
  "nbformat_minor": 5
}
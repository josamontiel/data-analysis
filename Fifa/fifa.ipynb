{
 "cells": [
  {
   "cell_type": "markdown",
   "metadata": {},
   "source": [
    "# The FIFA Dataset\n",
    "\n",
    "This dataset* shows us the amount of goals scored in every world cup between 1930 and 2022. As someone who has been in love with the sport for over a decade, and someone who wishes to showcase their abilities with regard to their analytical skills and skill in Python, SQL and Tableau. Hope you enjoy. \n",
    "\n",
    "*This dataset was downloaded from [Kaggle](https://kaggle.com) \n",
    "\n",
    "### What questions are going to be answered with this dataset?\n",
    "\n",
    "The questions I will be looking to get answered here are as follows:\n",
    "\n",
    "1. Which team has won the most World Cups?\n",
    "2. Does being host give a better chance of a World Cup Win?\n",
    "3. How many unique teams have joined the World Cup?\n",
    "4. Which team has the most World Cup appearances? Which ones have the least?\n",
    "5. How has goalscoring improved throughout the years?\n",
    "6. How many goals do championship teams usually score and concede?\n"
   ]
  },
  {
   "cell_type": "code",
   "execution_count": 4,
   "metadata": {},
   "outputs": [
    {
     "name": "stdout",
     "output_type": "stream",
     "text": [
      "\n",
      "Written 2720 rows into 1 tables in 0.057 seconds\n"
     ]
    },
    {
     "data": {
      "text/plain": [
       "2720"
      ]
     },
     "execution_count": 4,
     "metadata": {},
     "output_type": "execute_result"
    }
   ],
   "source": [
    "##\n",
    "# TODO\n",
    "# Import data\n",
    "# Clean Data\n",
    "# Separate info based on relevant questions\n",
    "# Plot via graphs\n",
    "##\n",
    "\n",
    "import pandas as pd\n",
    "from pandas import read_csv\n",
    "import seaborn as sns\n",
    "import matplotlib.pyplot as plt\n",
    "import re\n",
    "\n",
    "# Added `encoding_errors` argument due to some of the names containing non UTF-* characters\n",
    "df = read_csv('./datasets/fifa_wc_1930_2022.csv', encoding_errors='ignore', index_col='key_id')\n",
    "\n",
    "#\n",
    "# creating a sqlite db out of the csv file \n",
    "# using a python lib called `csv-to-sqlite`##\n",
    "# import csv_to_sqlite\n",
    "\n",
    "# # all the usual options are supported\n",
    "# options = csv_to_sqlite.CsvOptions(typing_style=\"full\", encoding=\"windows-1250\") \n",
    "# input = [\"./datasets/fifa_wc_1930_2022.csv\"]\n",
    "# csv_to_sqlite.write_csv(input, \"./datasets/fifa_wc.sqlite\", options)"
   ]
  },
  {
   "cell_type": "markdown",
   "metadata": {},
   "source": [
    "### Questions 1\n",
    "##### Which team has won the most World Cups?\n",
    "\n",
    "Using SQLite I was able to extract all of the goals from the finals. The dataset extracted was incomplete as there was no information for the 1994 finals. I did have to research that outside of the dataset. This may have been due to the match ending 0-0 after 120 mins, which meant they had to go to penalties. Brazil won on penalties 3-2. "
   ]
  },
  {
   "cell_type": "code",
   "execution_count": null,
   "metadata": {},
   "outputs": [],
   "source": []
  }
 ],
 "metadata": {
  "kernelspec": {
   "display_name": "Python 3.11.2 64-bit",
   "language": "python",
   "name": "python3"
  },
  "language_info": {
   "codemirror_mode": {
    "name": "ipython",
    "version": 3
   },
   "file_extension": ".py",
   "mimetype": "text/x-python",
   "name": "python",
   "nbconvert_exporter": "python",
   "pygments_lexer": "ipython3",
   "version": "3.11.2"
  },
  "orig_nbformat": 4,
  "vscode": {
   "interpreter": {
    "hash": "aee8b7b246df8f9039afb4144a1f6fd8d2ca17a180786b69acc140d282b71a49"
   }
  }
 },
 "nbformat": 4,
 "nbformat_minor": 2
}

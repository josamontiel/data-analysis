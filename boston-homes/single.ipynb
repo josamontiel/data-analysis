{
 "cells": [
  {
   "cell_type": "markdown",
   "metadata": {},
   "source": [
    "# Boston Median Home Sales\n",
    "##### Jan-June 2021-2022\n",
    "\n",
    "The municipalities are divided up into various community types:\n",
    "\n",
    "- Metro Core Communities (Inner Cities)\n",
    "- Regional Urban Centers\n",
    "- Street Car Suburbs\n",
    "- Developing Suburbs\n",
    "- Maturing Suburbs\n",
    "- Rural Towns\n",
    "\n",
    "I really only want to answer 3 questions:\n",
    "\n",
    "1. Which top 10 `Municipalities(s)` performed the best?\n",
    "2. Which `Community Type` performed the best?\n",
    "3. present the top 3 performers from each `Community Type`"
   ]
  },
  {
   "cell_type": "code",
   "execution_count": 34,
   "metadata": {},
   "outputs": [],
   "source": [
    "import pandas as pd\n",
    "import sqlite3\n",
    "\n",
    "\n",
    "con = sqlite3.connect('single_db.db')\n",
    "single = pd.read_csv('./single.csv')\n",
    "# single_db = single.to_sql('single_db', con)\n",
    "# !pip install ipython-sql\n",
    "# %load_ext sql\n",
    "\n",
    "%sql sqlite:///single_db.db"
   ]
  },
  {
   "cell_type": "code",
   "execution_count": 35,
   "metadata": {
    "vscode": {
     "languageId": "sql"
    }
   },
   "outputs": [
    {
     "name": "stdout",
     "output_type": "stream",
     "text": [
      " * sqlite:///single_db.db\n",
      "Done.\n"
     ]
    },
    {
     "data": {
      "text/html": [
       "<table>\n",
       "    <thead>\n",
       "        <tr>\n",
       "            <th>town</th>\n",
       "            <th>pct_change</th>\n",
       "        </tr>\n",
       "    </thead>\n",
       "    <tbody>\n",
       "        <tr>\n",
       "            <td>Somerville</td>\n",
       "            <td>44.4</td>\n",
       "        </tr>\n",
       "        <tr>\n",
       "            <td>Chelsea</td>\n",
       "            <td>27.3</td>\n",
       "        </tr>\n",
       "        <tr>\n",
       "            <td>Boston</td>\n",
       "            <td>27.1</td>\n",
       "        </tr>\n",
       "        <tr>\n",
       "            <td>Cambridge</td>\n",
       "            <td>15.4</td>\n",
       "        </tr>\n",
       "        <tr>\n",
       "            <td>Everett</td>\n",
       "            <td>12.5</td>\n",
       "        </tr>\n",
       "    </tbody>\n",
       "</table>"
      ],
      "text/plain": [
       "[('Somerville', 44.4),\n",
       " ('Chelsea', 27.3),\n",
       " ('Boston', 27.1),\n",
       " ('Cambridge', 15.4),\n",
       " ('Everett', 12.5)]"
      ]
     },
     "execution_count": 35,
     "metadata": {},
     "output_type": "execute_result"
    }
   ],
   "source": [
    "%%sql\n",
    "--Getting the top 5 metro core cities ranked by pct change\n",
    "SELECT municipality as town, pct_change\n",
    "FROM single_db\n",
    "WHERE community_type = 'Metro Core Communities'\n",
    "ORDER BY pct_change DESC\n",
    "LIMIT 5"
   ]
  },
  {
   "cell_type": "code",
   "execution_count": 36,
   "metadata": {
    "vscode": {
     "languageId": "sql"
    }
   },
   "outputs": [
    {
     "name": "stdout",
     "output_type": "stream",
     "text": [
      " * sqlite:///single_db.db\n",
      "Done.\n"
     ]
    },
    {
     "data": {
      "text/html": [
       "<table>\n",
       "    <thead>\n",
       "        <tr>\n",
       "            <th>town</th>\n",
       "            <th>pct_change</th>\n",
       "        </tr>\n",
       "    </thead>\n",
       "    <tbody>\n",
       "        <tr>\n",
       "            <td>Amesbury</td>\n",
       "            <td>15.7</td>\n",
       "        </tr>\n",
       "        <tr>\n",
       "            <td>Lawrence</td>\n",
       "            <td>14.7</td>\n",
       "        </tr>\n",
       "        <tr>\n",
       "            <td>Brockton</td>\n",
       "            <td>13.9</td>\n",
       "        </tr>\n",
       "        <tr>\n",
       "            <td>Salem</td>\n",
       "            <td>13.4</td>\n",
       "        </tr>\n",
       "        <tr>\n",
       "            <td>Lynn</td>\n",
       "            <td>13.3</td>\n",
       "        </tr>\n",
       "    </tbody>\n",
       "</table>"
      ],
      "text/plain": [
       "[('Amesbury', 15.7),\n",
       " ('Lawrence', 14.7),\n",
       " ('Brockton', 13.9),\n",
       " ('Salem', 13.4),\n",
       " ('Lynn', 13.3)]"
      ]
     },
     "execution_count": 36,
     "metadata": {},
     "output_type": "execute_result"
    }
   ],
   "source": [
    "%%sql\n",
    "--Getting the top 5 reg urban centers ranked by pct change\n",
    "SELECT municipality as town, pct_change\n",
    "FROM single_db\n",
    "WHERE community_type = 'Regional Urban Centers'\n",
    "ORDER BY pct_change DESC\n",
    "LIMIT 5"
   ]
  },
  {
   "cell_type": "code",
   "execution_count": 37,
   "metadata": {
    "vscode": {
     "languageId": "sql"
    }
   },
   "outputs": [
    {
     "name": "stdout",
     "output_type": "stream",
     "text": [
      " * sqlite:///single_db.db\n",
      "Done.\n"
     ]
    },
    {
     "data": {
      "text/html": [
       "<table>\n",
       "    <thead>\n",
       "        <tr>\n",
       "            <th>town</th>\n",
       "            <th>pct_change</th>\n",
       "        </tr>\n",
       "    </thead>\n",
       "    <tbody>\n",
       "        <tr>\n",
       "            <td>Brookline</td>\n",
       "            <td>37.4</td>\n",
       "        </tr>\n",
       "        <tr>\n",
       "            <td>Arlington</td>\n",
       "            <td>21.7</td>\n",
       "        </tr>\n",
       "        <tr>\n",
       "            <td>Medford</td>\n",
       "            <td>14.3</td>\n",
       "        </tr>\n",
       "        <tr>\n",
       "            <td>Winthrop</td>\n",
       "            <td>10.5</td>\n",
       "        </tr>\n",
       "        <tr>\n",
       "            <td>Melrose</td>\n",
       "            <td>9.7</td>\n",
       "        </tr>\n",
       "    </tbody>\n",
       "</table>"
      ],
      "text/plain": [
       "[('Brookline', 37.4),\n",
       " ('Arlington', 21.7),\n",
       " ('Medford', 14.3),\n",
       " ('Winthrop', 10.5),\n",
       " ('Melrose', 9.7)]"
      ]
     },
     "execution_count": 37,
     "metadata": {},
     "output_type": "execute_result"
    }
   ],
   "source": [
    "%%sql\n",
    "--Getting the top 5 Streetcar Suburbs ranked by pct change\n",
    "SELECT municipality as town, pct_change\n",
    "FROM single_db\n",
    "WHERE community_type = 'Streetcar Suburbs'\n",
    "ORDER BY pct_change DESC\n",
    "LIMIT 5"
   ]
  },
  {
   "cell_type": "code",
   "execution_count": 38,
   "metadata": {
    "vscode": {
     "languageId": "sql"
    }
   },
   "outputs": [
    {
     "name": "stdout",
     "output_type": "stream",
     "text": [
      " * sqlite:///single_db.db\n",
      "Done.\n"
     ]
    },
    {
     "data": {
      "text/html": [
       "<table>\n",
       "    <thead>\n",
       "        <tr>\n",
       "            <th>town</th>\n",
       "            <th>pct_change</th>\n",
       "        </tr>\n",
       "    </thead>\n",
       "    <tbody>\n",
       "        <tr>\n",
       "            <td>Sherborn</td>\n",
       "            <td>33.5</td>\n",
       "        </tr>\n",
       "        <tr>\n",
       "            <td>Abington</td>\n",
       "            <td>27.0</td>\n",
       "        </tr>\n",
       "        <tr>\n",
       "            <td>Medway</td>\n",
       "            <td>24.9</td>\n",
       "        </tr>\n",
       "        <tr>\n",
       "            <td>Ayer</td>\n",
       "            <td>24.8</td>\n",
       "        </tr>\n",
       "        <tr>\n",
       "            <td>Stow</td>\n",
       "            <td>24.5</td>\n",
       "        </tr>\n",
       "    </tbody>\n",
       "</table>"
      ],
      "text/plain": [
       "[('Sherborn', 33.5),\n",
       " ('Abington', 27.0),\n",
       " ('Medway', 24.9),\n",
       " ('Ayer', 24.8),\n",
       " ('Stow', 24.5)]"
      ]
     },
     "execution_count": 38,
     "metadata": {},
     "output_type": "execute_result"
    }
   ],
   "source": [
    "%%sql\n",
    "--Getting the top 5 Developing Suburbs ranked by pct change\n",
    "SELECT municipality as town, pct_change\n",
    "FROM single_db\n",
    "WHERE community_type = 'Developing Suburbs'\n",
    "ORDER BY pct_change DESC\n",
    "LIMIT 5"
   ]
  },
  {
   "cell_type": "code",
   "execution_count": 39,
   "metadata": {
    "vscode": {
     "languageId": "sql"
    }
   },
   "outputs": [
    {
     "name": "stdout",
     "output_type": "stream",
     "text": [
      " * sqlite:///single_db.db\n",
      "Done.\n"
     ]
    },
    {
     "data": {
      "text/html": [
       "<table>\n",
       "    <thead>\n",
       "        <tr>\n",
       "            <th>town</th>\n",
       "            <th>pct_change</th>\n",
       "        </tr>\n",
       "    </thead>\n",
       "    <tbody>\n",
       "        <tr>\n",
       "            <td>Lincoln</td>\n",
       "            <td>30.5</td>\n",
       "        </tr>\n",
       "        <tr>\n",
       "            <td>Nahant</td>\n",
       "            <td>28.0</td>\n",
       "        </tr>\n",
       "        <tr>\n",
       "            <td>Medfield</td>\n",
       "            <td>26.3</td>\n",
       "        </tr>\n",
       "        <tr>\n",
       "            <td>Wellesley</td>\n",
       "            <td>23.4</td>\n",
       "        </tr>\n",
       "        <tr>\n",
       "            <td>Acton</td>\n",
       "            <td>21.2</td>\n",
       "        </tr>\n",
       "    </tbody>\n",
       "</table>"
      ],
      "text/plain": [
       "[('Lincoln', 30.5),\n",
       " ('Nahant', 28.0),\n",
       " ('Medfield', 26.3),\n",
       " ('Wellesley', 23.4),\n",
       " ('Acton', 21.2)]"
      ]
     },
     "execution_count": 39,
     "metadata": {},
     "output_type": "execute_result"
    }
   ],
   "source": [
    "%%sql\n",
    "--Getting the top 5 Maturing Suburbs ranked by pct change\n",
    "SELECT municipality as town, pct_change\n",
    "FROM single_db\n",
    "WHERE community_type = 'Maturing Suburbs'\n",
    "ORDER BY pct_change DESC\n",
    "LIMIT 5"
   ]
  },
  {
   "cell_type": "code",
   "execution_count": 40,
   "metadata": {
    "vscode": {
     "languageId": "sql"
    }
   },
   "outputs": [
    {
     "name": "stdout",
     "output_type": "stream",
     "text": [
      " * sqlite:///single_db.db\n",
      "Done.\n"
     ]
    },
    {
     "data": {
      "text/html": [
       "<table>\n",
       "    <thead>\n",
       "        <tr>\n",
       "            <th>town</th>\n",
       "            <th>pct_change</th>\n",
       "        </tr>\n",
       "    </thead>\n",
       "    <tbody>\n",
       "        <tr>\n",
       "            <td>Ashby</td>\n",
       "            <td>5.8</td>\n",
       "        </tr>\n",
       "    </tbody>\n",
       "</table>"
      ],
      "text/plain": [
       "[('Ashby', 5.8)]"
      ]
     },
     "execution_count": 40,
     "metadata": {},
     "output_type": "execute_result"
    }
   ],
   "source": [
    "%%sql\n",
    "--Getting the top 5 Rural ranked by pct change\n",
    "SELECT municipality as town, pct_change\n",
    "FROM single_db\n",
    "WHERE community_type = 'Rural Towns'\n",
    "ORDER BY pct_change DESC\n",
    "LIMIT 5"
   ]
  },
  {
   "cell_type": "code",
   "execution_count": 41,
   "metadata": {
    "vscode": {
     "languageId": "sql"
    }
   },
   "outputs": [
    {
     "name": "stdout",
     "output_type": "stream",
     "text": [
      " * sqlite:///single_db.db\n",
      "Done.\n"
     ]
    },
    {
     "data": {
      "text/html": [
       "<table>\n",
       "    <thead>\n",
       "        <tr>\n",
       "            <th>City/Town</th>\n",
       "            <th>% Change</th>\n",
       "            <th>Community Type</th>\n",
       "        </tr>\n",
       "    </thead>\n",
       "    <tbody>\n",
       "        <tr>\n",
       "            <td>Somerville</td>\n",
       "            <td>44.4</td>\n",
       "            <td>Metro Core Communities</td>\n",
       "        </tr>\n",
       "        <tr>\n",
       "            <td>Brookline</td>\n",
       "            <td>37.4</td>\n",
       "            <td>Streetcar Suburbs</td>\n",
       "        </tr>\n",
       "        <tr>\n",
       "            <td>Sherborn</td>\n",
       "            <td>33.5</td>\n",
       "            <td>Developing Suburbs</td>\n",
       "        </tr>\n",
       "        <tr>\n",
       "            <td>Lincoln</td>\n",
       "            <td>30.5</td>\n",
       "            <td>Maturing Suburbs</td>\n",
       "        </tr>\n",
       "        <tr>\n",
       "            <td>Nahant</td>\n",
       "            <td>28.0</td>\n",
       "            <td>Maturing Suburbs</td>\n",
       "        </tr>\n",
       "        <tr>\n",
       "            <td>Chelsea</td>\n",
       "            <td>27.3</td>\n",
       "            <td>Metro Core Communities</td>\n",
       "        </tr>\n",
       "        <tr>\n",
       "            <td>Boston</td>\n",
       "            <td>27.1</td>\n",
       "            <td>Metro Core Communities</td>\n",
       "        </tr>\n",
       "        <tr>\n",
       "            <td>Abington</td>\n",
       "            <td>27.0</td>\n",
       "            <td>Developing Suburbs</td>\n",
       "        </tr>\n",
       "        <tr>\n",
       "            <td>Medfield</td>\n",
       "            <td>26.3</td>\n",
       "            <td>Maturing Suburbs</td>\n",
       "        </tr>\n",
       "        <tr>\n",
       "            <td>Medway</td>\n",
       "            <td>24.9</td>\n",
       "            <td>Developing Suburbs</td>\n",
       "        </tr>\n",
       "    </tbody>\n",
       "</table>"
      ],
      "text/plain": [
       "[('Somerville', 44.4, 'Metro Core Communities'),\n",
       " ('Brookline', 37.4, 'Streetcar Suburbs'),\n",
       " ('Sherborn', 33.5, 'Developing Suburbs'),\n",
       " ('Lincoln', 30.5, 'Maturing Suburbs'),\n",
       " ('Nahant', 28.0, 'Maturing Suburbs'),\n",
       " ('Chelsea', 27.3, 'Metro Core Communities'),\n",
       " ('Boston', 27.1, 'Metro Core Communities'),\n",
       " ('Abington', 27.0, 'Developing Suburbs'),\n",
       " ('Medfield', 26.3, 'Maturing Suburbs'),\n",
       " ('Medway', 24.9, 'Developing Suburbs')]"
      ]
     },
     "execution_count": 41,
     "metadata": {},
     "output_type": "execute_result"
    }
   ],
   "source": [
    "%%sql\n",
    "--Getting the top 10 overall by pct change\n",
    "SELECT municipality as 'City/Town', pct_change as '% Change', community_type as 'Community Type'\n",
    "FROM single_db\n",
    "ORDER BY pct_change DESC\n",
    "LIMIT 10"
   ]
  }
 ],
 "metadata": {
  "kernelspec": {
   "display_name": "Python 3.11.2 64-bit",
   "language": "python",
   "name": "python3"
  },
  "language_info": {
   "codemirror_mode": {
    "name": "ipython",
    "version": 3
   },
   "file_extension": ".py",
   "mimetype": "text/x-python",
   "name": "python",
   "nbconvert_exporter": "python",
   "pygments_lexer": "ipython3",
   "version": "3.11.2"
  },
  "orig_nbformat": 4,
  "vscode": {
   "interpreter": {
    "hash": "aee8b7b246df8f9039afb4144a1f6fd8d2ca17a180786b69acc140d282b71a49"
   }
  }
 },
 "nbformat": 4,
 "nbformat_minor": 2
}

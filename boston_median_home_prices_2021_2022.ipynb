{
  "cells": [
    {
      "cell_type": "code",
      "execution_count": null,
      "id": "6eaef64e",
      "metadata": {
        "_cell_guid": "b1076dfc-b9ad-4769-8c92-a6c4dae69d19",
        "_uuid": "8f2839f25d086af736a60e9eeb907d3b93b6e0e5",
        "colab": {
          "base_uri": "https://localhost:8080/"
        },
        "execution": {
          "iopub.execute_input": "2023-01-01T15:46:58.662593Z",
          "iopub.status.busy": "2023-01-01T15:46:58.661826Z",
          "iopub.status.idle": "2023-01-01T15:46:59.355768Z",
          "shell.execute_reply": "2023-01-01T15:46:59.354940Z"
        },
        "id": "6eaef64e",
        "outputId": "73868a00-be1f-4ce5-dda2-dc55f8870d6e",
        "papermill": {
          "duration": 0.700945,
          "end_time": "2023-01-01T15:46:59.357710",
          "exception": false,
          "start_time": "2023-01-01T15:46:58.656765",
          "status": "completed"
        },
        "tags": []
      },
      "outputs": [],
      "source": [
        "import numpy as np # linear algebra\n",
        "import pandas as pd # data processing, CSV file I/O (e.g. pd.read_csv)\n",
        "from pandas import read_csv # Importing the read_csv method \n",
        "                            # as it will allow us to write cleaner code\n",
        "%matplotlib inline\n",
        "from pylab import *\n",
        "from natsort import index_natsorted\n",
        "import seaborn as sns\n",
        "sns.set_theme(style=\"ticks\")\n",
        "import sqlite3\n",
        "\n",
        "# Connect to a database w sqlite3\n",
        "connection = sqlite3.connect('mydatbase.db')\n",
        "crsr_for_database = connection.cursor()\n",
        "print(\"Connected to 'mydatabase.db'\")\n",
        "        \n",
        "# Assigning variable to the datasets\n",
        "# These names will represent the three different \n",
        "# data sets used to create this project\n",
        "\n",
        "single_family_data = read_csv('./datasets/single_family_home.csv')\n",
        "condo_data = read_csv('./datasets/median_condo_price.csv')\n",
        "black_and_latino_data = read_csv('./datasets/black_and_latino_mortgage_rates.csv')\n",
        "\n",
        "# Format floats to show 2 decimal places for '% Change' col\n",
        "pd.options.display.float_format = '{:.2f}'.format\n",
        "\n",
        "# Prints a message to show that everything is loaded up\n",
        "print(\"All systems GO!\")"
      ]
    },
    {
      "cell_type": "code",
      "execution_count": null,
      "id": "Ha9wnD1Y0WAZ",
      "metadata": {
        "id": "Ha9wnD1Y0WAZ"
      },
      "outputs": [],
      "source": [
        "# Some formatting before we begin\n",
        "\n",
        "# convert inpouts in the '% change' col to float type\n",
        "# Removing of the % symbol needs to happen first\n",
        "single_family_data['% Change'] = single_family_data['% Change'].str[:-1]\n",
        "\n",
        "# Converts the type to a float\n",
        "single_family_data['% Change'] = single_family_data['% Change'].astype(float)\n",
        "\n",
        "\n",
        "# Format floats to show 2 decimal places for '% Change' col\n",
        "pd.options.display.float_format = '{:.2f}'.format"
      ]
    },
    {
      "cell_type": "markdown",
      "id": "6cb85e06",
      "metadata": {
        "id": "6cb85e06",
        "papermill": {
          "duration": 0.00209,
          "end_time": "2023-01-01T15:46:59.362330",
          "exception": false,
          "start_time": "2023-01-01T15:46:59.360240",
          "status": "completed"
        },
        "tags": []
      },
      "source": [
        "## Single Family Median Price Data:\n",
        "\n",
        "In this section we will be combing through the single family median price dataset for the months of Jan-Jun of 2021 and the same months of 2022.\n",
        "\n",
        "We have no aim as to what we hope to uncover, only merely to present the data in such a way that it makes full sense to the end user. "
      ]
    },
    {
      "cell_type": "code",
      "execution_count": null,
      "id": "-hnaTER8_pdI",
      "metadata": {
        "colab": {
          "base_uri": "https://localhost:8080/"
        },
        "id": "-hnaTER8_pdI",
        "outputId": "084c1706-f00e-40f4-c24e-34de2715388e"
      },
      "outputs": [],
      "source": [
        "single_family_data.dtypes"
      ]
    },
    {
      "cell_type": "code",
      "execution_count": null,
      "id": "2FHtNXmey4eb",
      "metadata": {
        "colab": {
          "base_uri": "https://localhost:8080/",
          "height": 278
        },
        "id": "2FHtNXmey4eb",
        "outputId": "fbf36ec4-d8f9-4d22-94da-2e8502f70e62"
      },
      "outputs": [],
      "source": [
        "single_family_data.describe()"
      ]
    },
    {
      "cell_type": "code",
      "execution_count": null,
      "id": "uCB-IQqex6go",
      "metadata": {
        "colab": {
          "base_uri": "https://localhost:8080/"
        },
        "id": "uCB-IQqex6go",
        "outputId": "4bbba48e-d0ae-4bcf-ed7e-16829b9d1abf"
      },
      "outputs": [],
      "source": [
        "\n",
        "pd.unique(single_family_data['Communities Type'])\n"
      ]
    },
    {
      "cell_type": "code",
      "execution_count": null,
      "id": "bb33270c",
      "metadata": {
        "colab": {
          "base_uri": "https://localhost:8080/"
        },
        "execution": {
          "iopub.execute_input": "2023-01-01T15:46:59.368405Z",
          "iopub.status.busy": "2023-01-01T15:46:59.367701Z",
          "iopub.status.idle": "2023-01-01T15:46:59.376903Z",
          "shell.execute_reply": "2023-01-01T15:46:59.375889Z"
        },
        "id": "bb33270c",
        "outputId": "3c34b7fd-250a-49d6-916d-05bcbf587786",
        "papermill": {
          "duration": 0.014382,
          "end_time": "2023-01-01T15:46:59.378958",
          "exception": false,
          "start_time": "2023-01-01T15:46:59.364576",
          "status": "completed"
        },
        "tags": []
      },
      "outputs": [],
      "source": [
        "# Removing NaN values by removing the 'Notes column \n",
        "# as those were the only 'NaN' values in the entire data set.\n",
        "# The other two data sets were complete and did not need to be amended\n",
        "\n",
        "# Prints off all the columns and the amount of NaN vals for each\n",
        "# As shown below, There are no more 'NaN' values \n",
        "# as we removed the 'Notes'\n",
        "print(f\"Total number of 'NaN' inputs: \\n\\n{single_family_data.isna().sum()}\\n\")\n",
        "\n",
        "# Shows all values which may be 'Null'\n",
        "print(f\"Total number of 'Null' inputs: \\n{single_family_data.isnull().sum()}\\n\")\n",
        "\n",
        "# Prints all of the coumn names\n",
        "print(f\"\\n{single_family_data.columns}\")\n",
        "\n",
        "# Used the below command to remove the notes column as all of the values were 'NaN'\n",
        "# If you do not run all cells it will trigger an error when re run\n",
        "\n",
        "del single_family_data['Notes']"
      ]
    },
    {
      "cell_type": "code",
      "execution_count": null,
      "id": "lBYDPmzN34Xv",
      "metadata": {
        "colab": {
          "base_uri": "https://localhost:8080/"
        },
        "id": "lBYDPmzN34Xv",
        "outputId": "e4112b7e-689b-4e72-86f1-09e6377d9b53"
      },
      "outputs": [],
      "source": [
        "# testing the columns post deletion of 'Notes' col\n",
        "print(single_family_data.columns)"
      ]
    },
    {
      "cell_type": "code",
      "execution_count": null,
      "id": "gKxb83DIlN7M",
      "metadata": {
        "id": "gKxb83DIlN7M"
      },
      "outputs": [],
      "source": [
        "# Presenting data by community type\n",
        "\n",
        "# 'Developing Suburbs', \n",
        "# 'Maturing Suburbs',\n",
        "# 'Rural Towns'\n",
        "\n",
        "# Metro Core Communities Single family\n",
        "metro_data_single = single_family_data.loc[lambda single_family_data: single_family_data['Communities Type'] == \"Metro Core Communities\"]\n",
        "\n",
        "# Regional Urban Centers for Single Family homes\n",
        "reg_urban_centers_single = single_family_data.loc[lambda single_family_data: single_family_data['Communities Type'] == \"Regional Urban Centers\"]\n",
        "\n",
        "# Streetcar Suburbs\n",
        "street_car_suburb_single = single_family_data.loc[lambda single_family_data: single_family_data['Communities Type'] == \"Streetcar Suburbs\"]\n",
        "\n",
        "# Developing suburbs\n",
        "developing_suburb_single = single_family_data.loc[lambda single_family_data: single_family_data['Communities Type'] == \"Developing Suburbs\"]\n",
        "\n",
        "# Maturing Suburbs\n",
        "maturing_suburb_single = single_family_data.loc[lambda single_family_data: single_family_data['Communities Type'] == \"'Maturing Suburbs\"]\n",
        "\n",
        "# Rural Towns\n",
        "rural_town_single = single_family_data.loc[lambda single_family_data: single_family_data['Communities Type'] == \"Rural Towns\"]\n",
        "\n",
        "\n",
        "# print(metro_data_single)\n",
        "# df.loc[lambda df: df['shield'] == 8]"
      ]
    },
    {
      "cell_type": "code",
      "execution_count": null,
      "id": "0f3ae883",
      "metadata": {},
      "outputs": [],
      "source": [
        "# Sorting by community type column\n",
        "# to present which type experienced\n",
        "# the greatest increase in value by % \n",
        "\n",
        "# Metro core communities data\n",
        "metro_data_single.sort_values(by='% Change', ascending=False)\n",
        "\n",
        "# Regional Urban Centers Single Family\n",
        "reg_urban_centers_single.sort_values(by='% Change', ascending=False)\n",
        "\n",
        "# Street Car Urban Suburb Single Family\n",
        "street_car_suburb_single.sort_values(by='% Change', ascending=False)\n",
        "\n",
        "# Developing Suburbs Single Family\n",
        "developing_suburb_single.sort_values(by='% Change', ascending=False)\n",
        "\n",
        "# Maturing Suburbs Single Family\n",
        "maturing_suburb_single.sort_values(by='% Change', ascending=False)\n",
        "\n",
        "# Rural Town Single Family\n",
        "rural_town_single.sort_values(by='% Change', ascending=False)"
      ]
    },
    {
      "cell_type": "code",
      "execution_count": null,
      "id": "6e3pDuUXsw_c",
      "metadata": {
        "colab": {
          "base_uri": "https://localhost:8080/"
        },
        "id": "6e3pDuUXsw_c",
        "outputId": "f47de29b-7903-4968-f16e-6ecee193b1de"
      },
      "outputs": [],
      "source": [
        "# Showing the column names to get a little \n",
        "# more insight into the values we will be seeing\n",
        "def show_column_names():\n",
        "\n",
        "  # Single family\n",
        "  print(\"\\nSingle family data:\\n\")\n",
        "  for col in single_family_data.columns:\n",
        "    print(col)\n",
        "\n",
        "  # Condo\n",
        "  print(\"\\nCondo data:\\n\")\n",
        "  for col in condo_data.columns:\n",
        "    print(col)\n",
        "\n",
        "  # Black And Latino mortgages\n",
        "  print(\"\\nBlack and Latino data:\\n\")\n",
        "  for col in black_and_latino_data.columns:\n",
        "    print(col)\n",
        "\n",
        "show_column_names()"
      ]
    },
    {
      "cell_type": "markdown",
      "id": "9e05dd1a",
      "metadata": {
        "id": "9e05dd1a",
        "papermill": {
          "duration": 0.002259,
          "end_time": "2023-01-01T15:46:59.384042",
          "exception": false,
          "start_time": "2023-01-01T15:46:59.381783",
          "status": "completed"
        },
        "tags": []
      },
      "source": [
        "#### Showing the Head and Tail"
      ]
    },
    {
      "cell_type": "code",
      "execution_count": null,
      "id": "77ede2ba",
      "metadata": {
        "colab": {
          "base_uri": "https://localhost:8080/",
          "height": 206
        },
        "execution": {
          "iopub.execute_input": "2023-01-01T15:46:59.389635Z",
          "iopub.status.busy": "2023-01-01T15:46:59.389352Z",
          "iopub.status.idle": "2023-01-01T15:46:59.403164Z",
          "shell.execute_reply": "2023-01-01T15:46:59.402430Z"
        },
        "id": "77ede2ba",
        "outputId": "6dac12d4-9cb3-41c9-96d6-a206cb92efaa",
        "papermill": {
          "duration": 0.018418,
          "end_time": "2023-01-01T15:46:59.404766",
          "exception": false,
          "start_time": "2023-01-01T15:46:59.386348",
          "status": "completed"
        },
        "tags": []
      },
      "outputs": [],
      "source": [
        "# This command will show us the first 5 rows of data\n",
        "# The data is sorted in no particular order\n",
        "# Just the order they were entered into the CSV file\n",
        "\n",
        "single_family_data.head()"
      ]
    },
    {
      "cell_type": "code",
      "execution_count": null,
      "id": "b29dc447",
      "metadata": {
        "colab": {
          "base_uri": "https://localhost:8080/",
          "height": 206
        },
        "execution": {
          "iopub.execute_input": "2023-01-01T15:46:59.411064Z",
          "iopub.status.busy": "2023-01-01T15:46:59.410630Z",
          "iopub.status.idle": "2023-01-01T15:46:59.419454Z",
          "shell.execute_reply": "2023-01-01T15:46:59.418854Z"
        },
        "id": "b29dc447",
        "outputId": "ab62acda-93cf-4a17-e6fb-e4a416e897bc",
        "papermill": {
          "duration": 0.013706,
          "end_time": "2023-01-01T15:46:59.421047",
          "exception": false,
          "start_time": "2023-01-01T15:46:59.407341",
          "status": "completed"
        },
        "tags": []
      },
      "outputs": [],
      "source": [
        "# This command will show us the last 5 rows of data\n",
        "single_family_data.tail()"
      ]
    },
    {
      "cell_type": "code",
      "execution_count": null,
      "id": "iIXG0SrZljSE",
      "metadata": {
        "colab": {
          "base_uri": "https://localhost:8080/",
          "height": 697
        },
        "id": "iIXG0SrZljSE",
        "outputId": "fc4ce78f-044d-48ce-fb42-7e9e5afd4b54"
      },
      "outputs": [],
      "source": [
        "single_family_start_price = single_family_data.sort_values(by=\"Median Sale Price, Jan - June 2021\", ascending=False)\n",
        "print(single_family_start_price)\n",
        "single_family_start_price.head()"
      ]
    }
  ],
  "metadata": {
    "colab": {
      "provenance": []
    },
    "kernelspec": {
      "display_name": "Python 3.11.0 64-bit",
      "language": "python",
      "name": "python3"
    },
    "language_info": {
      "codemirror_mode": {
        "name": "ipython",
        "version": 3
      },
      "file_extension": ".py",
      "mimetype": "text/x-python",
      "name": "python",
      "nbconvert_exporter": "python",
      "pygments_lexer": "ipython3",
      "version": "3.11.0"
    },
    "papermill": {
      "default_parameters": {},
      "duration": 7.999264,
      "end_time": "2023-01-01T15:47:00.352944",
      "environment_variables": {},
      "exception": null,
      "input_path": "__notebook__.ipynb",
      "output_path": "__notebook__.ipynb",
      "parameters": {},
      "start_time": "2023-01-01T15:46:52.353680",
      "version": "2.3.4"
    },
    "vscode": {
      "interpreter": {
        "hash": "aee8b7b246df8f9039afb4144a1f6fd8d2ca17a180786b69acc140d282b71a49"
      }
    }
  },
  "nbformat": 4,
  "nbformat_minor": 5
}
